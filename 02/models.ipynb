{
 "cells": [
  {
   "cell_type": "code",
   "execution_count": 1,
   "metadata": {},
   "outputs": [],
   "source": [
    "import sys\n",
    "assert sys.version_info >= (3, 7)"
   ]
  },
  {
   "cell_type": "markdown",
   "metadata": {},
   "source": [
    "Note that you need python 3.7 to have use datetime.datetime.fromisoformat()"
   ]
  },
  {
   "cell_type": "code",
   "execution_count": 31,
   "metadata": {},
   "outputs": [],
   "source": [
    "import csv \n",
    "import numpy as np\n",
    "from functions import split\n",
    "from functions import pipeline\n",
    "from functions import load_data\n",
    "from functions import compute_f1\n",
    "from functions import corr_matrix\n",
    "from functions import plot_feature\n",
    "from functions import print_sample\n",
    "from functions import convert_date\n",
    "from functions import convert_type\n",
    "from functions import print_feature\n",
    "from functions import remove_missing\n",
    "from functions import delete_feature\n",
    "from functions import sort_by_station\n",
    "from functions import convert_one_hot\n",
    "from functions import convert_weather\n",
    "from functions import sort_by_duration\n",
    "from functions import feature_output_corr\n",
    "from functions import normalization_feature\n",
    "from sklearn.linear_model import LogisticRegression, LinearRegression\n",
    "from sklearn.metrics import mean_squared_error, r2_score, f1_score"
   ]
  },
  {
   "cell_type": "markdown",
   "metadata": {},
   "source": [
    "# Loading and Preprocessing :"
   ]
  },
  {
   "cell_type": "markdown",
   "metadata": {},
   "source": [
    "* path : (STRING) path of the file to load.\n",
    "* limit : (INT) limit the number of example to load.\n",
    "* delete_features : (LIST) feature names to remove.\n",
    "* cvrt_date : (BOOLEAN) convert the data\n",
    "* weather : (LIST) weather to consider. All other will be dropped.\n",
    "* one_hot_features : (LIST) feature names to convert in one-hot vector.\n",
    "* norm_features : (LIST) feature names to normalize in one-hot vector\n",
    "* missing_features (LIST) feature which missing values are to replace \n",
    "* missing_values   (LIST) value with which to replace the missing values"
   ]
  },
  {
   "cell_type": "markdown",
   "metadata": {},
   "source": [
    "### Training file:"
   ]
  },
  {
   "cell_type": "code",
   "execution_count": 5,
   "metadata": {
    "scrolled": true
   },
   "outputs": [
    {
     "name": "stdout",
     "output_type": "stream",
     "text": [
      "Data loaded (4.9s)\n",
      "Visility indicator deleted (5.7s)\n",
      "hmdx deleted (5.0s)\n",
      "Wind Chill deleted (6.4s)\n",
      "Date splited in Year/Month/Day/Hour/Weekday (7.5s)\n",
      "Weekday converted in one-hot vector (14.5s)\n",
      "Weather converted (21.6s)\n",
      "Replace missing values (0.2s)\n",
      "Remove samples with missing values (0.7s)\n",
      "Data converted to float (11.4s)\n",
      "Temperature (°C) normalized (14.2s)\n",
      "Drew point (°C) normalized (14.8s)\n",
      "Relativite humidity (%) normalized (14.3s)\n",
      "wind direction (10s deg) normalized (14.1s)\n",
      "Wind speed (km/h) normalized (13.4s)\n",
      "Pressure at the station (kPa) normalized (16.3s)\n",
      "Visibility (km) normalized (15.4s)\n",
      "Sort data according to station code (0.7s)\n",
      "split data into x, y, and label (52.3s)\n"
     ]
    }
   ],
   "source": [
    "header, x, y, label = pipeline(path=\"data/training.csv\")"
   ]
  },
  {
   "cell_type": "code",
   "execution_count": 6,
   "metadata": {},
   "outputs": [],
   "source": [
    "header, stations, x_stations, y_stations, label_stations = sort_by_station(header, x, y, label)"
   ]
  },
  {
   "cell_type": "markdown",
   "metadata": {},
   "source": [
    "### Test file:"
   ]
  },
  {
   "cell_type": "code",
   "execution_count": 7,
   "metadata": {},
   "outputs": [
    {
     "name": "stdout",
     "output_type": "stream",
     "text": [
      "Data loaded (0.9s)\n",
      "Visility indicator deleted (1.8s)\n",
      "hmdx deleted (1.7s)\n",
      "Wind Chill deleted (2.9s)\n",
      "Date splited in Year/Month/Day/Hour/Weekday (2.0s)\n",
      "Weekday converted in one-hot vector (3.9s)\n",
      "Weather converted (4.0s)\n",
      "Replace missing values (0.0s)\n",
      "Remove samples with missing values (0.1s)\n",
      "Data converted to float (2.1s)\n",
      "Temperature (°C) normalized (5.1s)\n",
      "Drew point (°C) normalized (3.9s)\n",
      "Relativite humidity (%) normalized (3.8s)\n",
      "wind direction (10s deg) normalized (3.9s)\n",
      "Wind speed (km/h) normalized (3.7s)\n",
      "Pressure at the station (kPa) normalized (4.1s)\n",
      "Visibility (km) normalized (5.4s)\n",
      "Sort data according to station code (0.2s)\n"
     ]
    }
   ],
   "source": [
    "header_test, x_test = pipeline(path=\"data/test.csv\", test=True)"
   ]
  },
  {
   "cell_type": "code",
   "execution_count": 8,
   "metadata": {},
   "outputs": [],
   "source": [
    "header, stations_test, x_test_stations  = sort_by_station(header_test, x_test)"
   ]
  },
  {
   "cell_type": "code",
   "execution_count": 9,
   "metadata": {},
   "outputs": [],
   "source": [
    "assert(stations == stations_test)"
   ]
  },
  {
   "cell_type": "markdown",
   "metadata": {},
   "source": [
    "# Model logistic par station"
   ]
  },
  {
   "cell_type": "code",
   "execution_count": 42,
   "metadata": {},
   "outputs": [
    {
     "name": "stdout",
     "output_type": "stream",
     "text": [
      "182/182 Stations done\n",
      "Done!\n",
      "f1-score mean : 0.471134\n"
     ]
    }
   ],
   "source": [
    "yi = header_test.index(\"Year\")\n",
    "mi = header_test.index(\"Month\")\n",
    "di = header_test.index(\"Day\")\n",
    "hi = header_test.index(\"Hour\")\n",
    "si = header_test.index(\"Station Code\")\n",
    "\n",
    "f1mean = []\n",
    "\n",
    "with open(\"data/results.csv\", \"w\") as output:\n",
    "    writer = csv.writer(output, lineterminator='\\n')\n",
    "    writer.writerow([\"id\",\"volume\"])\n",
    "    \n",
    "    for i, s in enumerate(stations):\n",
    "        \n",
    "        # if empty (no recording for that station in test set)\n",
    "        if not x_test_stations[i]:\n",
    "            continue\n",
    "        \n",
    "        # sort by time\n",
    "        _x, _y, _label = sort_by_duration(header, x_stations[i], y_stations[i], label_stations[i])\n",
    "\n",
    "        #deleting outliers + Dealing with sqrt(y) instead of y\n",
    "#         non_out_ind = np.where(np.asarray(_y) < 50)\n",
    "#         _x = np.asarray(_x)[non_out_ind].tolist()\n",
    "#         _y = np.asarray(_y)[non_out_ind].tolist() \n",
    "#         _label = np.asarray(_label)[non_out_ind].tolist()\n",
    "        \n",
    "        # create validation set\n",
    "        split = int(0.8*len(_x))\n",
    "        x_train, x_valid = _x[:split],  _x[split:]\n",
    "        y_train, y_valid = _y[:split],  _y[split:]\n",
    "        label_train, label_valid = _label[:split],  _label[split:]\n",
    "        \n",
    "#         # Linear model\n",
    "#         model_linear = LinearRegression()\n",
    "#         model_linear = model_linear.fit(x_train, y_train)\n",
    "\n",
    "#         # evaluate model\n",
    "#         y_pred = model_linear.predict(x_valid)\n",
    "#         label_pred = [int(y > np.sqrt(8)) for y in y_pred]\n",
    "#         f1_score, threshold = compute_f1(label_pred, label_valid)\n",
    "#         f1mean.append(f1_score)\n",
    "        \n",
    "#         # prediction\n",
    "#         y_test = model_linear.predict(x_test_stations[i])\n",
    "        \n",
    "#         label_test = [int(y > np.sqrt(8)) for y in y_test]\n",
    "        \n",
    "        # regression logistic\n",
    "        weights = 1\n",
    "        best_f1_score, best_class_weight, best_threshold = 0, 0, 0\n",
    "        \n",
    "        for wi in range(10):\n",
    "            model = LogisticRegression(max_iter=9999, class_weight={0: 1, 1: wi}, solver=\"lbfgs\")\n",
    "            model.fit(x_train, label_train)\n",
    "\n",
    "            # evaluate model\n",
    "            proba_valid = list(zip(*model.predict_proba(x_valid)))[1]\n",
    "            f1_score, threshold = compute_f1(proba_valid, label_valid)\n",
    "            if f1_score > best_f1_score:\n",
    "                best_f1_score = f1_score\n",
    "                best_class_weight = wi\n",
    "                best_threshold = threshold\n",
    "\n",
    "        f1mean.append(best_f1_score)\n",
    "\n",
    "        model = LogisticRegression(max_iter=9999, class_weight={0: 1, 1: best_class_weight}, solver=\"lbfgs\")\n",
    "        model.fit(_x, _label)\n",
    "        \n",
    "        # prediction\n",
    "        proba_test = list(zip(*model.predict_proba(x_test_stations[i])))[1]\n",
    "        \n",
    "        label_test = [int(p > best_threshold) for p in proba_test]\n",
    "        \n",
    "        print (\"{}/{} Stations done\".format(i+1, len(stations)) , end=\"\\r\")\n",
    "        \n",
    "        # write prediction in file\n",
    "        for i, (e, p) in enumerate(zip(x_test_stations[i], label_test)):\n",
    "            d = \"2016-{:02d}-{:02d}_{:02d}:00_{:4d}\".format(int(e[mi]),int(e[di]),int(e[hi]),int(e[si]))\n",
    "            writer.writerow([d, str(bool(p))])\n",
    "print(\"\")\n",
    "print(\"Done!\")\n",
    "print(\"f1-score mean : {:4f}\".format(np.mean(f1mean)))"
   ]
  },
  {
   "cell_type": "markdown",
   "metadata": {},
   "source": [
    "# To continue"
   ]
  },
  {
   "cell_type": "markdown",
   "metadata": {},
   "source": [
    "### Deleting Outliers"
   ]
  },
  {
   "cell_type": "code",
   "execution_count": 9,
   "metadata": {},
   "outputs": [],
   "source": [
    "header=np.asarray(header)\n",
    "x=np.asarray(x)\n",
    "y=np.asarray(y)\n",
    "label=np.asarray(label)"
   ]
  },
  {
   "cell_type": "code",
   "execution_count": 10,
   "metadata": {},
   "outputs": [
    {
     "name": "stdout",
     "output_type": "stream",
     "text": [
      "Quantile at 0.99: 17.0\n",
      "10 Highest values: [179.0, 169.0, 169.0, 156.0, 156.0, 125.0, 123.0, 115.0, 109.0, 109.0]\n"
     ]
    }
   ],
   "source": [
    "print(\"Quantile at 0.99:\", np.quantile(y, 0.99))\n",
    "print(\"10 Highest values:\", sorted(y, reverse = True)[0:10])"
   ]
  },
  {
   "cell_type": "code",
   "execution_count": 11,
   "metadata": {},
   "outputs": [],
   "source": [
    "non_out_ind = np.where(y < 50)\n",
    "x, y, label = x[non_out_ind], y[non_out_ind], label[non_out_ind]"
   ]
  },
  {
   "cell_type": "markdown",
   "metadata": {},
   "source": [
    "#### Distribution of the withdrawals:"
   ]
  },
  {
   "cell_type": "code",
   "execution_count": 12,
   "metadata": {},
   "outputs": [
    {
     "name": "stderr",
     "output_type": "stream",
     "text": [
      "C:\\Anaconda\\lib\\site-packages\\scipy\\stats\\stats.py:1713: FutureWarning: Using a non-tuple sequence for multidimensional indexing is deprecated; use `arr[tuple(seq)]` instead of `arr[seq]`. In the future this will be interpreted as an array index, `arr[np.array(seq)]`, which will result either in an error or a different result.\n",
      "  return np.add.reduce(sorted[indexer] * weights, axis=axis) / sumval\n"
     ]
    },
    {
     "data": {
      "image/png": "[encoded data removed]",
      "text/plain": [
       "<Figure size 450x300 with 1 Axes>"
      ]
     },
     "metadata": {
      "needs_background": "light"
     },
     "output_type": "display_data"
    }
   ],
   "source": [
    "import matplotlib.pyplot as plt\n",
    "import seaborn as sns\n",
    "\n",
    "plt.figure(figsize=(6, 4), dpi=75)\n",
    "sns.distplot(y)\n",
    "plt.show()"
   ]
  },
  {
   "cell_type": "markdown",
   "metadata": {},
   "source": [
    "To reduce the tail of the distribution, we apply the square root function to to $y$ :"
   ]
  },
  {
   "cell_type": "code",
   "execution_count": 13,
   "metadata": {},
   "outputs": [],
   "source": [
    "y = np.sqrt(y)\n",
    "\n",
    "split = int(x.shape[0] * 0.8)\n",
    "x_train, x_valid = x[:split], x[split:]\n",
    "y_train, y_valid = y[:split], y[split:]\n",
    "label_train, label_valid = label[:split], label[split:]"
   ]
  },
  {
   "cell_type": "markdown",
   "metadata": {},
   "source": [
    "### Forward Feature Selection "
   ]
  },
  {
   "cell_type": "code",
   "execution_count": 14,
   "metadata": {},
   "outputs": [],
   "source": [
    "import itertools\n",
    "from sklearn.linear_model import LinearRegression\n",
    "from sklearn.metrics import mean_squared_error, r2_score\n",
    "\n",
    "def fit_linear_reg(X,Y):\n",
    "    #Fit linear regression model and return RSS and R squared values\n",
    "    model_k = LinearRegression(fit_intercept = True)\n",
    "    model_k.fit(X,Y)\n",
    "    RSS = mean_squared_error(Y,model_k.predict(X)) * len(Y)\n",
    "    R_squared = model_k.score(X,Y)\n",
    "    return RSS, R_squared\n",
    "\n",
    "\n",
    "#Initialization variables\n",
    "Y = y_train\n",
    "X = x_train\n",
    "k = 25\n",
    "# k = len(header)\n",
    "\n",
    "remaining_features = [i for i in range(len(header))]\n",
    "features = []\n",
    "RSS_list, R_squared_list = [np.inf], [np.inf] #Due to 1 indexing of the loop...\n",
    "features_list = dict()\n",
    "\n",
    "for i in range(1,k+1):\n",
    "    best_RSS = np.inf\n",
    "    \n",
    "    for combo in itertools.combinations(remaining_features,1):\n",
    "\n",
    "            RSS = fit_linear_reg(X[:,list(combo) + features],Y)   #Store temp result \n",
    "\n",
    "            if RSS[0] < best_RSS:\n",
    "                best_RSS = RSS[0]\n",
    "                best_R_squared = RSS[1] \n",
    "                best_feature = combo[0]\n",
    "\n",
    "    #Updating variables for next loop\n",
    "    features.append(best_feature)\n",
    "    remaining_features.remove(best_feature)\n",
    "    \n",
    "    #Saving values for plotting\n",
    "    RSS_list.append(best_RSS)\n",
    "    R_squared_list.append(best_R_squared)\n",
    "    features_list[i] = features.copy()"
   ]
  },
  {
   "cell_type": "code",
   "execution_count": 15,
   "metadata": {
    "scrolled": true
   },
   "outputs": [
    {
     "name": "stdout",
     "output_type": "stream",
     "text": [
      "Forward stepwise subset selection\n",
      "Number of features : 1\n",
      "Features : [0]\n",
      "RSS : 1337225.0\n",
      "R Squared : 0.1478101732415248\n",
      "\n",
      "Number of features : 2\n",
      "Features : [0, 2]\n",
      "RSS : 1197326.0\n",
      "R Squared : 0.2369656185666592\n",
      "\n",
      "Number of features : 3\n",
      "Features : [0, 2, 12]\n",
      "RSS : 1123123.0\n",
      "R Squared : 0.2842536583364178\n",
      "\n",
      "Number of features : 4\n",
      "Features : [0, 2, 12, 5]\n",
      "RSS : 1108891.0\n",
      "R Squared : 0.29332342711774484\n",
      "\n",
      "Number of features : 5\n",
      "Features : [0, 2, 12, 5, 8]\n",
      "RSS : 1102947.0\n",
      "R Squared : 0.29711162107018985\n",
      "\n",
      "Number of features : 6\n",
      "Features : [0, 2, 12, 5, 8, 19]\n",
      "RSS : 1098416.0\n",
      "R Squared : 0.29999913997376215\n",
      "\n",
      "Number of features : 7\n",
      "Features : [0, 2, 12, 5, 8, 19, 10]\n",
      "RSS : 1096273.0\n",
      "R Squared : 0.30136449094495454\n",
      "\n",
      "Number of features : 8\n",
      "Features : [0, 2, 12, 5, 8, 19, 10, 18]\n",
      "RSS : 1094619.0\n",
      "R Squared : 0.30241877443183995\n",
      "\n",
      "Number of features : 9\n",
      "Features : [0, 2, 12, 5, 8, 19, 10, 18, 7]\n",
      "RSS : 1093336.0\n",
      "R Squared : 0.30323658911782225\n",
      "\n",
      "Number of features : 10\n",
      "Features : [0, 2, 12, 5, 8, 19, 10, 18, 7, 4]\n",
      "RSS : 1092275.0\n",
      "R Squared : 0.30391258152830236\n",
      "\n",
      "Number of features : 11\n",
      "Features : [0, 2, 12, 5, 8, 19, 10, 18, 7, 4, 13]\n",
      "RSS : 1091328.0\n",
      "R Squared : 0.3045159475469328\n",
      "\n",
      "Number of features : 12\n",
      "Features : [0, 2, 12, 5, 8, 19, 10, 18, 7, 4, 13, 1]\n",
      "RSS : 1090546.0\n",
      "R Squared : 0.30501458578918883\n",
      "\n",
      "Number of features : 13\n",
      "Features : [0, 2, 12, 5, 8, 19, 10, 18, 7, 4, 13, 1, 22]\n",
      "RSS : 1089789.0\n",
      "R Squared : 0.30549651581602033\n",
      "\n",
      "Number of features : 14\n",
      "Features : [0, 2, 12, 5, 8, 19, 10, 18, 7, 4, 13, 1, 22, 28]\n",
      "RSS : 1089127.0\n",
      "R Squared : 0.3059183540323822\n",
      "\n",
      "Number of features : 15\n",
      "Features : [0, 2, 12, 5, 8, 19, 10, 18, 7, 4, 13, 1, 22, 28, 23]\n",
      "RSS : 1088868.0\n",
      "R Squared : 0.3060835257935899\n",
      "\n",
      "Number of features : 16\n",
      "Features : [0, 2, 12, 5, 8, 19, 10, 18, 7, 4, 13, 1, 22, 28, 23, 21]\n",
      "RSS : 1088634.0\n",
      "R Squared : 0.3062326750082718\n",
      "\n",
      "Number of features : 17\n",
      "Features : [0, 2, 12, 5, 8, 19, 10, 18, 7, 4, 13, 1, 22, 28, 23, 21, 3]\n",
      "RSS : 1088414.0\n",
      "R Squared : 0.3063732228110121\n",
      "\n",
      "Number of features : 18\n",
      "Features : [0, 2, 12, 5, 8, 19, 10, 18, 7, 4, 13, 1, 22, 28, 23, 21, 3, 14]\n",
      "RSS : 1088193.0\n",
      "R Squared : 0.3065137759060218\n",
      "\n",
      "Number of features : 19\n",
      "Features : [0, 2, 12, 5, 8, 19, 10, 18, 7, 4, 13, 1, 22, 28, 23, 21, 3, 14, 24]\n",
      "RSS : 1088027.0\n",
      "R Squared : 0.30661985566170114\n",
      "\n"
     ]
    }
   ],
   "source": [
    "for i in range(1,len(features_list)):\n",
    "    features_list[i] = [f for f in features_list[i] if header[f] in header_test]\n",
    "\n",
    "print('Forward stepwise subset selection')\n",
    "for i in range(1,20):\n",
    "    print('Number of features :', len(features_list[i]))\n",
    "    print('Features :', features_list[i])\n",
    "    print('RSS :', round(RSS_list[i]))\n",
    "    print('R Squared :', R_squared_list[i])\n",
    "    print(\"\")"
   ]
  },
  {
   "cell_type": "markdown",
   "metadata": {},
   "source": [
    "Features that we choose to keep :"
   ]
  },
  {
   "cell_type": "code",
   "execution_count": 16,
   "metadata": {},
   "outputs": [],
   "source": [
    "features_keep = features_list[10]\n",
    "\n",
    "x_train = x_train[:, features_keep]\n",
    "x_valid = x_valid[:, features_keep]"
   ]
  },
  {
   "cell_type": "markdown",
   "metadata": {},
   "source": [
    "### Linear regression on Withdrawals:"
   ]
  },
  {
   "cell_type": "code",
   "execution_count": 17,
   "metadata": {},
   "outputs": [
    {
     "name": "stdout",
     "output_type": "stream",
     "text": [
      "Score:  -0.4797704769167009\n",
      "Mean squared error: 1.58\n",
      "Variance score: -0.48\n"
     ]
    }
   ],
   "source": [
    "model_linear = LinearRegression()\n",
    "model_linear = model_linear.fit(x_train, y_train)\n",
    "\n",
    "y_pred = model_linear.predict(x_valid)\n",
    "\n",
    "# The coefficients\n",
    "print('Score: ', model_linear.score(x_valid, y_valid))\n",
    "# The mean squared error\n",
    "print(\"Mean squared error: %.2f\"\n",
    "      % mean_squared_error(y_valid, y_pred))\n",
    "# Explained variance score: 1 is perfect prediction\n",
    "print('Variance score: %.2f' % r2_score(y_valid, y_pred))"
   ]
  },
  {
   "cell_type": "markdown",
   "metadata": {},
   "source": [
    "### Logistic regression between Withdrawals and Volume:"
   ]
  },
  {
   "cell_type": "code",
   "execution_count": 18,
   "metadata": {},
   "outputs": [
    {
     "name": "stderr",
     "output_type": "stream",
     "text": [
      "C:\\Anaconda\\lib\\site-packages\\sklearn\\linear_model\\logistic.py:433: FutureWarning: Default solver will be changed to 'lbfgs' in 0.22. Specify a solver to silence this warning.\n",
      "  FutureWarning)\n"
     ]
    },
    {
     "name": "stdout",
     "output_type": "stream",
     "text": [
      "1.0\n",
      "0.9177681925699179\n"
     ]
    }
   ],
   "source": [
    "from sklearn.linear_model import LogisticRegression\n",
    "\n",
    "model_logit = LogisticRegression(max_iter=9999, class_weight={0: 1, 1: 6})\n",
    "model_logit = model_logit.fit(y_train.reshape(-1,1), label_train)\n",
    "\n",
    "print(model_logit.score(y_valid.reshape(-1,1), label_valid))\n",
    "print(model_logit.score(model_linear.predict(x_valid).reshape(-1,1), label_valid))"
   ]
  },
  {
   "cell_type": "markdown",
   "metadata": {},
   "source": [
    "## Creation of the result file:"
   ]
  },
  {
   "cell_type": "code",
   "execution_count": 19,
   "metadata": {
    "scrolled": true
   },
   "outputs": [
    {
     "ename": "IndexError",
     "evalue": "index 0 is out of bounds for axis 0 with size 0",
     "output_type": "error",
     "traceback": [
      "\u001b[1;31m---------------------------------------------------------------------------\u001b[0m",
      "\u001b[1;31mIndexError\u001b[0m                                Traceback (most recent call last)",
      "\u001b[1;32m<ipython-input-19-d4075dfb132e>\u001b[0m in \u001b[0;36m<module>\u001b[1;34m\u001b[0m\n\u001b[0;32m      1\u001b[0m features_keep_test = [np.where(i == header_test)[0][0] \n\u001b[1;32m----> 2\u001b[1;33m                       for i in header[features_keep]]\n\u001b[0m\u001b[0;32m      3\u001b[0m \u001b[0mx_test_f\u001b[0m \u001b[1;33m=\u001b[0m \u001b[0mx_test\u001b[0m\u001b[1;33m[\u001b[0m\u001b[1;33m:\u001b[0m\u001b[1;33m,\u001b[0m\u001b[0mfeatures_keep_test\u001b[0m\u001b[1;33m]\u001b[0m\u001b[1;33m\u001b[0m\u001b[1;33m\u001b[0m\u001b[0m\n",
      "\u001b[1;32m<ipython-input-19-d4075dfb132e>\u001b[0m in \u001b[0;36m<listcomp>\u001b[1;34m(.0)\u001b[0m\n\u001b[0;32m      1\u001b[0m features_keep_test = [np.where(i == header_test)[0][0] \n\u001b[1;32m----> 2\u001b[1;33m                       for i in header[features_keep]]\n\u001b[0m\u001b[0;32m      3\u001b[0m \u001b[0mx_test_f\u001b[0m \u001b[1;33m=\u001b[0m \u001b[0mx_test\u001b[0m\u001b[1;33m[\u001b[0m\u001b[1;33m:\u001b[0m\u001b[1;33m,\u001b[0m\u001b[0mfeatures_keep_test\u001b[0m\u001b[1;33m]\u001b[0m\u001b[1;33m\u001b[0m\u001b[1;33m\u001b[0m\u001b[0m\n",
      "\u001b[1;31mIndexError\u001b[0m: index 0 is out of bounds for axis 0 with size 0"
     ]
    }
   ],
   "source": [
    "features_keep_test = [np.where(i == header_test)[0][0] \n",
    "                      for i in header[features_keep]]\n",
    "x_test_f = x_test[:,features_keep_test]\n"
   ]
  },
  {
   "cell_type": "code",
   "execution_count": null,
   "metadata": {},
   "outputs": [],
   "source": [
    "label_pred = model_logit.predict(model_linear.predict(x_test_f).reshape(-1,1))"
   ]
  },
  {
   "cell_type": "code",
   "execution_count": null,
   "metadata": {},
   "outputs": [],
   "source": [
    "yi = np.where(header_test == \"Year\")\n",
    "mi = np.where(header_test == \"Month\")\n",
    "di = np.where(header_test == \"Day\")\n",
    "hi = np.where(header_test == \"Hour\")\n",
    "si = np.where(header_test == \"Station Code\")\n",
    "\n",
    "results = [[\"id\",\"volume\"]]\n",
    "\n",
    "for index,element in enumerate(x_test):\n",
    "    string_element = \"2016-{:02d}-{:02d}_{:02d}:00_{:4d}\".format(int(element[mi]),\n",
    "                                                                 int(element[di]),\n",
    "                                                                 int(element[hi]),\n",
    "                                                                 int(element[si]))\n",
    "    results.append([string_element, str(bool(label_pred[index]))])"
   ]
  },
  {
   "cell_type": "code",
   "execution_count": null,
   "metadata": {},
   "outputs": [],
   "source": [
    "print(sum(model_logit.predict(model_linear.predict(x_valid).reshape(-1,1))))\n",
    "print(sum(model_logit.predict(model_linear.predict(x_test_f).reshape(-1,1))))"
   ]
  },
  {
   "cell_type": "code",
   "execution_count": null,
   "metadata": {},
   "outputs": [],
   "source": [
    "import csv \n",
    "\n",
    "with open(\"data/results.csv\", \"w\") as output:\n",
    "    writer = csv.writer(output, lineterminator='\\n')\n",
    "    writer.writerows(results)"
   ]
  }
 ],
 "metadata": {
  "kernelspec": {
   "display_name": "Python 3",
   "language": "python",
   "name": "python3"
  }
 },
 "nbformat": 4,
 "nbformat_minor": 2
}
