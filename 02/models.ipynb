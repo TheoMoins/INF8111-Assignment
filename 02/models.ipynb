{
 "cells": [
  {
   "cell_type": "code",
   "execution_count": 1,
   "metadata": {},
   "outputs": [],
   "source": [
    "import sys\n",
    "assert sys.version_info >= (3, 7)"
   ]
  },
  {
   "cell_type": "markdown",
   "metadata": {},
   "source": [
    "Note that you need python 3.7 to have use datetime.datetime.fromisoformat()"
   ]
  },
  {
   "cell_type": "code",
   "execution_count": 2,
   "metadata": {},
   "outputs": [],
   "source": [
    "import numpy as np\n",
    "from functions import split\n",
    "from functions import pipeline\n",
    "from functions import load_data\n",
    "from functions import compute_f1\n",
    "from functions import corr_matrix\n",
    "from functions import plot_feature\n",
    "from functions import print_sample\n",
    "from functions import convert_date\n",
    "from functions import convert_type\n",
    "from functions import print_feature\n",
    "from functions import remove_missing\n",
    "from functions import delete_feature\n",
    "from functions import convert_one_hot\n",
    "from functions import convert_weather\n",
    "from functions import feature_output_corr\n",
    "from functions import normalization_feature"
   ]
  },
  {
   "cell_type": "markdown",
   "metadata": {},
   "source": [
    "# Loading and Preprocessing :"
   ]
  },
  {
   "cell_type": "markdown",
   "metadata": {},
   "source": [
    "* path : (STRING) path of the file to load.\n",
    "* limit : (INT) limit the number of example to load.\n",
    "* delete_features : (LIST) feature names to remove.\n",
    "* cvrt_date : (BOOLEAN) convert the data\n",
    "* weather : (LIST) weather to consider. All other will be dropped.\n",
    "* one_hot_features : (LIST) feature names to convert in one-hot vector.\n",
    "* norm_features : (LIST) feature names to normalize in one-hot vector\n",
    "* missing_features (LIST) feature which missing values are to replace \n",
    "* missing_values   (LIST) value with which to replace the missing values"
   ]
  },
  {
   "cell_type": "markdown",
   "metadata": {},
   "source": [
    "### Training file:"
   ]
  },
  {
   "cell_type": "code",
   "execution_count": 3,
   "metadata": {},
   "outputs": [
    {
     "name": "stdout",
     "output_type": "stream",
     "text": [
      "Data loaded (1.5s)\n",
      "Visility indicator deleted (0.7s)\n",
      "hmdx deleted (0.3s)\n",
      "Wind Chill deleted (0.3s)\n",
      "Date splited in Year/Month/Day/Hour/Weekday (1.7s)\n",
      "Weekday converted in one-hot vector (2.9s)\n",
      "Weather converted (7.2s)\n",
      "Replace missing values (0.3s)\n",
      "Remove samples with missing values (2.3s)\n",
      "Data converted to float (8.0s)\n",
      "Temperature (°C) normalized (0.0s)\n",
      "Drew point (°C) normalized (0.0s)\n",
      "Visibility (km) normalized (0.0s)\n",
      "Relativite humidity (%) normalized (0.0s)\n",
      "wind direction (10s deg) normalized (0.0s)\n",
      "Wind speed (km/h) normalized (0.0s)\n",
      "Pressure at the station (kPa) normalized (0.0s)\n",
      "split data into x, y, and label (0.2s)\n"
     ]
    }
   ],
   "source": [
    "header, x, y, label = pipeline(path=\"data/training.csv\", limit=300000,\n",
    "                               one_hot_features=[\"Weekday\"],\n",
    "                               norm_features=[\n",
    "                                   \"Temperature (°C)\", \"Drew point (°C)\", \"Visibility (km)\",\n",
    "                                   \"Relativite humidity (%)\", \"wind direction (10s deg)\",\n",
    "                                   \"Wind speed (km/h)\", \"Pressure at the station (kPa)\"],\n",
    "                               delete_features=[\"Visility indicator\", \"hmdx\", \"Wind Chill\"]\n",
    "                              )"
   ]
  },
  {
   "cell_type": "markdown",
   "metadata": {},
   "source": [
    "### Test file:"
   ]
  },
  {
   "cell_type": "code",
   "execution_count": 4,
   "metadata": {},
   "outputs": [
    {
     "name": "stdout",
     "output_type": "stream",
     "text": [
      "Data loaded (1.7s)\n",
      "Visility indicator deleted (0.4s)\n",
      "hmdx deleted (0.2s)\n",
      "Wind Chill deleted (0.1s)\n",
      "Date splited in Year/Month/Day/Hour/Weekday (1.5s)\n",
      "Weekday converted in one-hot vector (2.3s)\n",
      "Weather converted (6.7s)\n",
      "Replace missing values (0.2s)\n",
      "Remove samples with missing values (1.8s)\n",
      "Data converted to float (7.0s)\n",
      "Temperature (°C) normalized (0.0s)\n",
      "Drew point (°C) normalized (0.0s)\n",
      "Visibility (km) normalized (0.0s)\n",
      "Relativite humidity (%) normalized (0.0s)\n",
      "wind direction (10s deg) normalized (0.0s)\n",
      "Wind speed (km/h) normalized (0.0s)\n",
      "Pressure at the station (kPa) normalized (0.0s)\n",
      "split data into x, y, and label (0.3s)\n"
     ]
    }
   ],
   "source": [
    "header_test, x_test, _, _ = pipeline(path=\"data/test.csv\",\n",
    "                                     one_hot_features=[\"Weekday\"],\n",
    "                                     norm_features=[\n",
    "                                         \"Temperature (°C)\", \"Drew point (°C)\", \"Visibility (km)\",\n",
    "                                         \"Relativite humidity (%)\", \"wind direction (10s deg)\",\n",
    "                                         \"Wind speed (km/h)\", \"Pressure at the station (kPa)\"],\n",
    "                                      delete_features=[\"Visility indicator\", \"hmdx\", \"Wind Chill\"]\n",
    "                                     )"
   ]
  },
  {
   "cell_type": "code",
   "execution_count": 5,
   "metadata": {},
   "outputs": [],
   "source": [
    "# index = np.where(header == \"Station Code\")\n",
    "# stations = list(set(x[:, index[0][0]]))\n",
    "\n",
    "# x_stations = [[] for _ in range(len(stations))]\n",
    "# y_stations = [[] for _ in range(len(stations))]\n",
    "# label_stations = [[] for _ in range(len(stations))]\n",
    "\n",
    "# for _x, _y, _label in zip(x, y, label):\n",
    "#     s = stations.index(_x[index])\n",
    "#     x_stations[s].append(_x)\n",
    "#     y_stations[s].append(_y)\n",
    "#     label_stations[s].append(_label)"
   ]
  },
  {
   "cell_type": "markdown",
   "metadata": {},
   "source": [
    "### Deleting Outliers"
   ]
  },
  {
   "cell_type": "code",
   "execution_count": 6,
   "metadata": {},
   "outputs": [
    {
     "name": "stdout",
     "output_type": "stream",
     "text": [
      "Quantile at 0.99: 17.0\n",
      "10 Highest values: [169.0, 156.0, 125.0, 109.0, 72.0, 65.0, 65.0, 65.0, 60.0, 59.0]\n"
     ]
    }
   ],
   "source": [
    "print(\"Quantile at 0.99:\", np.quantile(y, 0.99))\n",
    "print(\"10 Highest values:\", sorted(y, reverse = True)[0:10])"
   ]
  },
  {
   "cell_type": "code",
   "execution_count": 7,
   "metadata": {},
   "outputs": [],
   "source": [
    "non_out_ind = np.where(y < 50)\n",
    "x, y, label = x[non_out_ind], y[non_out_ind], label[non_out_ind]"
   ]
  },
  {
   "cell_type": "markdown",
   "metadata": {},
   "source": [
    "#### Distribution of the withdrawals:"
   ]
  },
  {
   "cell_type": "code",
   "execution_count": 8,
   "metadata": {},
   "outputs": [
    {
     "name": "stderr",
     "output_type": "stream",
     "text": [
      "C:\\Anaconda\\lib\\site-packages\\scipy\\stats\\stats.py:1713: FutureWarning: Using a non-tuple sequence for multidimensional indexing is deprecated; use `arr[tuple(seq)]` instead of `arr[seq]`. In the future this will be interpreted as an array index, `arr[np.array(seq)]`, which will result either in an error or a different result.\n",
      "  return np.add.reduce(sorted[indexer] * weights, axis=axis) / sumval\n"
     ]
    },
    {
     "data": {
      "image/png": "[encoded data removed]",
      "text/plain": [
       "<Figure size 450x300 with 1 Axes>"
      ]
     },
     "metadata": {
      "needs_background": "light"
     },
     "output_type": "display_data"
    }
   ],
   "source": [
    "import matplotlib.pyplot as plt\n",
    "import seaborn as sns\n",
    "\n",
    "plt.figure(figsize=(6, 4), dpi=75)\n",
    "sns.distplot(y)\n",
    "plt.show()"
   ]
  },
  {
   "cell_type": "markdown",
   "metadata": {},
   "source": [
    "To reduce the tail of the distribution, we apply the square root function to to $y$ :"
   ]
  },
  {
   "cell_type": "code",
   "execution_count": 9,
   "metadata": {},
   "outputs": [],
   "source": [
    "y = np.sqrt(y)\n",
    "\n",
    "split = int(x.shape[0] * 0.8)\n",
    "x_train, x_valid = x[:split], x[split:]\n",
    "y_train, y_valid = y[:split], y[split:]\n",
    "label_train, label_valid = label[:split], label[split:]"
   ]
  },
  {
   "cell_type": "markdown",
   "metadata": {},
   "source": [
    "### Forward Feature Selection "
   ]
  },
  {
   "cell_type": "code",
   "execution_count": 10,
   "metadata": {},
   "outputs": [],
   "source": [
    "import itertools\n",
    "from sklearn.linear_model import LinearRegression\n",
    "from sklearn.metrics import mean_squared_error, r2_score\n",
    "\n",
    "def fit_linear_reg(X,Y):\n",
    "    #Fit linear regression model and return RSS and R squared values\n",
    "    model_k = LinearRegression(fit_intercept = True)\n",
    "    model_k.fit(X,Y)\n",
    "    RSS = mean_squared_error(Y,model_k.predict(X)) * len(Y)\n",
    "    R_squared = model_k.score(X,Y)\n",
    "    return RSS, R_squared\n",
    "\n",
    "\n",
    "#Initialization variables\n",
    "Y = y_train\n",
    "X = x_train\n",
    "k = 25\n",
    "# k = len(header)\n",
    "\n",
    "remaining_features = [i for i in range(len(header))]\n",
    "features = []\n",
    "RSS_list, R_squared_list = [np.inf], [np.inf] #Due to 1 indexing of the loop...\n",
    "features_list = dict()\n",
    "\n",
    "for i in range(1,k+1):\n",
    "    best_RSS = np.inf\n",
    "    \n",
    "    for combo in itertools.combinations(remaining_features,1):\n",
    "\n",
    "            RSS = fit_linear_reg(X[:,list(combo) + features],Y)   #Store temp result \n",
    "\n",
    "            if RSS[0] < best_RSS:\n",
    "                best_RSS = RSS[0]\n",
    "                best_R_squared = RSS[1] \n",
    "                best_feature = combo[0]\n",
    "\n",
    "    #Updating variables for next loop\n",
    "    features.append(best_feature)\n",
    "    remaining_features.remove(best_feature)\n",
    "    \n",
    "    #Saving values for plotting\n",
    "    RSS_list.append(best_RSS)\n",
    "    R_squared_list.append(best_R_squared)\n",
    "    features_list[i] = features.copy()"
   ]
  },
  {
   "cell_type": "code",
   "execution_count": 11,
   "metadata": {
    "scrolled": true
   },
   "outputs": [
    {
     "name": "stdout",
     "output_type": "stream",
     "text": [
      "Forward stepwise subset selection\n",
      "Number of features : 1\n",
      "Features : [0]\n",
      "RSS : 253387.0\n",
      "R Squared : 0.14450746095062217\n",
      "\n",
      "Number of features : 2\n",
      "Features : [0, 2]\n",
      "RSS : 227394.0\n",
      "R Squared : 0.23226541270687315\n",
      "\n",
      "Number of features : 3\n",
      "Features : [0, 2, 12]\n",
      "RSS : 213904.0\n",
      "R Squared : 0.2778107900754896\n",
      "\n",
      "Number of features : 4\n",
      "Features : [0, 2, 12, 5]\n",
      "RSS : 210973.0\n",
      "R Squared : 0.28770585407083016\n",
      "\n",
      "Number of features : 5\n",
      "Features : [0, 2, 12, 5, 19]\n",
      "RSS : 210057.0\n",
      "R Squared : 0.2908002567598692\n",
      "\n",
      "Number of features : 6\n",
      "Features : [0, 2, 12, 5, 19, 18]\n",
      "RSS : 209616.0\n",
      "R Squared : 0.2922870284042547\n",
      "\n",
      "Number of features : 7\n",
      "Features : [0, 2, 12, 5, 19, 18, 10]\n",
      "RSS : 209214.0\n",
      "R Squared : 0.2936448997839509\n",
      "\n",
      "Number of features : 8\n",
      "Features : [0, 2, 12, 5, 19, 18, 10, 8]\n",
      "RSS : 208882.0\n",
      "R Squared : 0.294765183792986\n",
      "\n",
      "Number of features : 9\n",
      "Features : [0, 2, 12, 5, 19, 18, 10, 8, 7]\n",
      "RSS : 208642.0\n",
      "R Squared : 0.2955765076882696\n",
      "\n",
      "Number of features : 10\n",
      "Features : [0, 2, 12, 5, 19, 18, 10, 8, 7, 4]\n",
      "RSS : 208430.0\n",
      "R Squared : 0.29629125852485483\n",
      "\n",
      "Number of features : 11\n",
      "Features : [0, 2, 12, 5, 19, 18, 10, 8, 7, 4, 13]\n",
      "RSS : 208274.0\n",
      "R Squared : 0.2968188154006314\n",
      "\n",
      "Number of features : 12\n",
      "Features : [0, 2, 12, 5, 19, 18, 10, 8, 7, 4, 13, 28]\n",
      "RSS : 208122.0\n",
      "R Squared : 0.2973319360328177\n",
      "\n",
      "Number of features : 13\n",
      "Features : [0, 2, 12, 5, 19, 18, 10, 8, 7, 4, 13, 28, 1]\n",
      "RSS : 207998.0\n",
      "R Squared : 0.2977511141260284\n",
      "\n",
      "Number of features : 14\n",
      "Features : [0, 2, 12, 5, 19, 18, 10, 8, 7, 4, 13, 28, 1, 22]\n",
      "RSS : 207859.0\n",
      "R Squared : 0.29822057642373445\n",
      "\n",
      "Number of features : 15\n",
      "Features : [0, 2, 12, 5, 19, 18, 10, 8, 7, 4, 13, 28, 1, 22, 21]\n",
      "RSS : 207803.0\n",
      "R Squared : 0.2984108159319304\n",
      "\n",
      "Number of features : 16\n",
      "Features : [0, 2, 12, 5, 19, 18, 10, 8, 7, 4, 13, 28, 1, 22, 21, 23]\n",
      "RSS : 207759.0\n",
      "R Squared : 0.2985573124006282\n",
      "\n",
      "Number of features : 17\n",
      "Features : [0, 2, 12, 5, 19, 18, 10, 8, 7, 4, 13, 28, 1, 22, 21, 23, 24]\n",
      "RSS : 207710.0\n",
      "R Squared : 0.2987236678289119\n",
      "\n",
      "Number of features : 18\n",
      "Features : [0, 2, 12, 5, 19, 18, 10, 8, 7, 4, 13, 28, 1, 22, 21, 23, 24, 3]\n",
      "RSS : 207677.0\n",
      "R Squared : 0.2988365069736201\n",
      "\n",
      "Number of features : 19\n",
      "Features : [0, 2, 12, 5, 19, 18, 10, 8, 7, 4, 13, 28, 1, 22, 21, 23, 24, 3, 14]\n",
      "RSS : 207643.0\n",
      "R Squared : 0.2989503543601373\n",
      "\n"
     ]
    }
   ],
   "source": [
    "for i in range(1,len(features_list)):\n",
    "    features_list[i] = [f for f in features_list[i] if header[f] in header_test]\n",
    "\n",
    "print('Forward stepwise subset selection')\n",
    "for i in range(1,20):\n",
    "    print('Number of features :', len(features_list[i]))\n",
    "    print('Features :', features_list[i])\n",
    "    print('RSS :', round(RSS_list[i]))\n",
    "    print('R Squared :', R_squared_list[i])\n",
    "    print(\"\")"
   ]
  },
  {
   "cell_type": "markdown",
   "metadata": {},
   "source": [
    "Features that we choose to keep :"
   ]
  },
  {
   "cell_type": "code",
   "execution_count": 12,
   "metadata": {},
   "outputs": [],
   "source": [
    "features_keep = features_list[10]\n",
    "\n",
    "x_train = x_train[:, features_keep]\n",
    "x_valid = x_valid[:, features_keep]"
   ]
  },
  {
   "cell_type": "markdown",
   "metadata": {},
   "source": [
    "### Linear regression on Withdrawals:"
   ]
  },
  {
   "cell_type": "code",
   "execution_count": 13,
   "metadata": {},
   "outputs": [
    {
     "name": "stdout",
     "output_type": "stream",
     "text": [
      "Score:  0.2974389876960305\n",
      "Mean squared error: 0.88\n",
      "Variance score: 0.30\n"
     ]
    }
   ],
   "source": [
    "model_linear = LinearRegression()\n",
    "model_linear = model_linear.fit(x_train, y_train)\n",
    "\n",
    "y_pred = model_linear.predict(x_valid)\n",
    "\n",
    "# The coefficients\n",
    "print('Score: ', model_linear.score(x_valid, y_valid))\n",
    "# The mean squared error\n",
    "print(\"Mean squared error: %.2f\"\n",
    "      % mean_squared_error(y_valid, y_pred))\n",
    "# Explained variance score: 1 is perfect prediction\n",
    "print('Variance score: %.2f' % r2_score(y_valid, y_pred))"
   ]
  },
  {
   "cell_type": "markdown",
   "metadata": {},
   "source": [
    "### Logistic regression between Withdrawals and Volume:"
   ]
  },
  {
   "cell_type": "code",
   "execution_count": 14,
   "metadata": {},
   "outputs": [
    {
     "name": "stderr",
     "output_type": "stream",
     "text": [
      "C:\\Anaconda\\lib\\site-packages\\sklearn\\linear_model\\logistic.py:433: FutureWarning: Default solver will be changed to 'lbfgs' in 0.22. Specify a solver to silence this warning.\n",
      "  FutureWarning)\n"
     ]
    },
    {
     "name": "stdout",
     "output_type": "stream",
     "text": [
      "1.0\n",
      "0.9276123759486281\n"
     ]
    }
   ],
   "source": [
    "from sklearn.linear_model import LogisticRegression\n",
    "\n",
    "model_logit = LogisticRegression(max_iter=9999, class_weight={0: 1, 1: 6})\n",
    "model_logit = model_logit.fit(y_train.reshape(-1,1), label_train)\n",
    "\n",
    "print(model_logit.score(y_valid.reshape(-1,1), label_valid))\n",
    "print(model_logit.score(model_linear.predict(x_valid).reshape(-1,1), label_valid))"
   ]
  },
  {
   "cell_type": "markdown",
   "metadata": {},
   "source": [
    "## Creation of the result file:"
   ]
  },
  {
   "cell_type": "code",
   "execution_count": 15,
   "metadata": {
    "scrolled": true
   },
   "outputs": [],
   "source": [
    "features_keep_test = [np.where(i == header_test)[0][0] \n",
    "                      for i in header[features_keep]]\n",
    "x_test_f = x_test[:,features_keep_test]\n"
   ]
  },
  {
   "cell_type": "code",
   "execution_count": 16,
   "metadata": {},
   "outputs": [],
   "source": [
    "label_pred = model_logit.predict(model_linear.predict(x_test_f).reshape(-1,1))"
   ]
  },
  {
   "cell_type": "code",
   "execution_count": 17,
   "metadata": {},
   "outputs": [],
   "source": [
    "yi = np.where(header_test == \"Year\")\n",
    "mi = np.where(header_test == \"Month\")\n",
    "di = np.where(header_test == \"Day\")\n",
    "hi = np.where(header_test == \"Hour\")\n",
    "si = np.where(header_test == \"Station Code\")\n",
    "\n",
    "results = [[\"id\",\"volume\"]]\n",
    "\n",
    "for index,element in enumerate(x_test):\n",
    "    string_element = \"2016-{:02d}-{:02d}_{:02d}:00_{:4d}\".format(int(element[mi]),\n",
    "                                                                 int(element[di]),\n",
    "                                                                 int(element[hi]),\n",
    "                                                                 int(element[si]))\n",
    "    results.append([string_element, str(bool(label_pred[index]))])"
   ]
  },
  {
   "cell_type": "code",
   "execution_count": 28,
   "metadata": {},
   "outputs": [
    {
     "name": "stdout",
     "output_type": "stream",
     "text": [
      "0.0\n",
      "0.0\n"
     ]
    }
   ],
   "source": [
    "print(sum(model_logit.predict(model_linear.predict(x_valid).reshape(-1,1))))\n",
    "print(sum(model_logit.predict(model_linear.predict(x_test_f).reshape(-1,1))))"
   ]
  },
  {
   "cell_type": "code",
   "execution_count": 18,
   "metadata": {},
   "outputs": [],
   "source": [
    "import csv \n",
    "\n",
    "with open(\"data/results.csv\", \"w\") as output:\n",
    "    writer = csv.writer(output, lineterminator='\\n')\n",
    "    writer.writerows(results)"
   ]
  }
 ],
 "metadata": {
  "kernelspec": {
   "display_name": "Python 3",
   "language": "python",
   "name": "python3"
  },
  "language_info": {
   "codemirror_mode": {
    "name": "ipython",
    "version": 3
   },
   "file_extension": ".py",
   "mimetype": "text/x-python",
   "name": "python",
   "nbconvert_exporter": "python",
   "pygments_lexer": "ipython3",
   "version": "3.7.1"
  }
 },
 "nbformat": 4,
 "nbformat_minor": 2
}
