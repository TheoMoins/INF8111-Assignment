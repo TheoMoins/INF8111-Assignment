{
 "cells": [
  {
   "cell_type": "markdown",
   "metadata": {},
   "source": [
    "Note that you need python 3.7 to have use datetime.datetime.fromisoformat()"
   ]
  },
  {
   "cell_type": "code",
   "execution_count": 1,
   "metadata": {},
   "outputs": [],
   "source": [
    "import sys\n",
    "assert sys.version_info >= (3, 7)"
   ]
  },
  {
   "cell_type": "markdown",
   "metadata": {},
   "source": [
    "# Load data"
   ]
  },
  {
   "cell_type": "code",
   "execution_count": 2,
   "metadata": {},
   "outputs": [],
   "source": [
    "import re\n",
    "import csv\n",
    "import itertools\n",
    "import numpy as np"
   ]
  },
  {
   "cell_type": "code",
   "execution_count": 3,
   "metadata": {},
   "outputs": [],
   "source": [
    "def load_data(path, limit=None):\n",
    "    with open(path, encoding='utf8') as file:\n",
    "        reader = csv.reader(file, delimiter=',')\n",
    "        # get header\n",
    "        header = next(reader)\n",
    "        data = [[value for value in row]\n",
    "                for row in itertools.islice(reader, limit)]\n",
    "    return np.asarray(header), np.asarray(data)"
   ]
  },
  {
   "cell_type": "code",
   "execution_count": 4,
   "metadata": {},
   "outputs": [],
   "source": [
    "header, data = load_data(\"data/training.csv\", limit=100000)"
   ]
  },
  {
   "cell_type": "markdown",
   "metadata": {},
   "source": [
    "# I/ Data preprocessing"
   ]
  },
  {
   "cell_type": "markdown",
   "metadata": {},
   "source": [
    "## I.1. Remove features with mostly missing values"
   ]
  },
  {
   "cell_type": "code",
   "execution_count": 5,
   "metadata": {},
   "outputs": [],
   "source": [
    "def print_sample(header, data, n=0):\n",
    "    for i, (feature, value) in enumerate(zip(header, data[n])):\n",
    "        print(\"({:^2d}) {:30} : {}\".format(i, feature, value))"
   ]
  },
  {
   "cell_type": "code",
   "execution_count": 6,
   "metadata": {},
   "outputs": [],
   "source": [
    "def print_feature(header, data, max_feature=5):\n",
    "    for n_feature, feature in enumerate(data.T):\n",
    "        values, counts = np.unique(feature, return_counts=True)\n",
    "        counts_values = sorted(zip(counts, values), reverse=True)\n",
    "        print(\"-\" * 50)\n",
    "        print(\"({:02d}) {} ({})\".format(n_feature, header[n_feature],\n",
    "                                        len(values)))\n",
    "        print(\"-\" * 50)\n",
    "        for i, (v, c) in enumerate(counts_values):\n",
    "            if i > max_feature:\n",
    "                break\n",
    "            print(\"{:10} : {:10} ({:5.1%})\".format(c, v, v / data.shape[0]))"
   ]
  },
  {
   "cell_type": "code",
   "execution_count": 7,
   "metadata": {},
   "outputs": [
    {
     "name": "stdout",
     "output_type": "stream",
     "text": [
      "--------------------------------------------------\n",
      "(00) Date/Hour (8497)\n",
      "--------------------------------------------------\n",
      "2016-08-31 23:00 :        182 ( 0.0%)\n",
      "2016-08-31 22:00 :        182 ( 0.0%)\n",
      "2016-08-31 21:00 :        182 ( 0.0%)\n",
      "2016-08-31 20:00 :        182 ( 0.0%)\n",
      "--------------------------------------------------\n",
      "(01) Temperature (°C) (358)\n",
      "--------------------------------------------------\n",
      "19,0       :      11830 ( 0.8%)\n",
      "21,5       :      11648 ( 0.8%)\n",
      "21,1       :      11648 ( 0.8%)\n",
      "21,0       :      11648 ( 0.8%)\n",
      "--------------------------------------------------\n",
      "(02) Drew point (°C) (372)\n",
      "--------------------------------------------------\n",
      "16,2       :      13286 ( 0.9%)\n",
      "16,0       :      13286 ( 0.9%)\n",
      "15,3       :      12740 ( 0.8%)\n",
      "14,5       :      12194 ( 0.8%)\n",
      "--------------------------------------------------\n",
      "(03) Relativite humidity (%) (89)\n",
      "--------------------------------------------------\n",
      "73         :      35126 ( 2.3%)\n",
      "67         :      30576 ( 2.0%)\n",
      "61         :      30576 ( 2.0%)\n",
      "75         :      30212 ( 2.0%)\n",
      "--------------------------------------------------\n",
      "(04) wind direction (10s deg) (38)\n",
      "--------------------------------------------------\n",
      "22         :     105014 ( 6.8%)\n",
      "24         :      95550 ( 6.2%)\n",
      "23         :      91000 ( 5.9%)\n",
      "21         :      84812 ( 5.5%)\n",
      "--------------------------------------------------\n",
      "(05) Wind speed (km/h) (52)\n",
      "--------------------------------------------------\n",
      "13         :      91546 ( 5.9%)\n",
      "10         :      87360 ( 5.6%)\n",
      "16         :      86996 ( 5.6%)\n",
      "14         :      82992 ( 5.4%)\n",
      "--------------------------------------------------\n",
      "(06) Visibility (km) (23)\n",
      "--------------------------------------------------\n",
      "24,1       :     959504 (62.0%)\n",
      "48,3       :     473564 (30.6%)\n",
      "16,1       :      26572 ( 1.7%)\n",
      "19,3       :      25844 ( 1.7%)\n",
      "--------------------------------------------------\n",
      "(07) Visility indicator (1)\n",
      "--------------------------------------------------\n",
      "           :    1546454 (100.0%)\n",
      "--------------------------------------------------\n",
      "(08) Pressure at the station (kPa) (435)\n",
      "--------------------------------------------------\n",
      "100,92     :      13286 ( 0.9%)\n",
      "100,93     :      12012 ( 0.8%)\n",
      "101,00     :      11830 ( 0.8%)\n",
      "100,91     :      11648 ( 0.8%)\n",
      "--------------------------------------------------\n",
      "(09) hmdx (20)\n",
      "--------------------------------------------------\n",
      "           :    1050686 (67.9%)\n",
      "26         :      60060 ( 3.9%)\n",
      "27         :      58968 ( 3.8%)\n",
      "28         :      53144 ( 3.4%)\n",
      "--------------------------------------------------\n",
      "(10) Wind Chill (10)\n",
      "--------------------------------------------------\n",
      "           :    1536808 (99.4%)\n",
      "-4         :       2912 ( 0.2%)\n",
      "-6         :       1820 ( 0.1%)\n",
      "-5         :       1274 ( 0.1%)\n",
      "--------------------------------------------------\n",
      "(11) Weather (34)\n",
      "--------------------------------------------------\n",
      "ND         :     930020 (60.1%)\n",
      "Généralement nuageux :     163072 (10.5%)\n",
      "Généralement dégagé :     127400 ( 8.2%)\n",
      "Dégagé     :      90090 ( 5.8%)\n",
      "--------------------------------------------------\n",
      "(12) Public Holiday (2)\n",
      "--------------------------------------------------\n",
      "0          :    1507142 (97.5%)\n",
      "1          :      39312 ( 2.5%)\n",
      "--------------------------------------------------\n",
      "(13) Station Code (182)\n",
      "--------------------------------------------------\n",
      "6928       :       8497 ( 0.5%)\n",
      "6927       :       8497 ( 0.5%)\n",
      "6921       :       8497 ( 0.5%)\n",
      "6912       :       8497 ( 0.5%)\n",
      "--------------------------------------------------\n",
      "(14) Withdrawals (83)\n",
      "--------------------------------------------------\n",
      "0          :     556116 (36.0%)\n",
      "1          :     254604 (16.5%)\n",
      "2          :     181174 (11.7%)\n",
      "3          :     134473 ( 8.7%)\n",
      "--------------------------------------------------\n",
      "(15) Volume (2)\n",
      "--------------------------------------------------\n",
      "0          :    1437210 (92.9%)\n",
      "1          :     109244 ( 7.1%)\n"
     ]
    }
   ],
   "source": [
    "print_feature(header, data, 3)"
   ]
  },
  {
   "cell_type": "markdown",
   "metadata": {},
   "source": [
    " * We can remove the feature without values in over 50% of samples. \n",
    "\n",
    " * We decide to keep Weather as it is discrete and we can easily replace it with a one-hot vector. \n",
    "\n",
    " * We also need to remove Withdrawals that is not available in test data."
   ]
  },
  {
   "cell_type": "code",
   "execution_count": 8,
   "metadata": {},
   "outputs": [],
   "source": [
    "def delete_feature(header, data, feature_name):\n",
    "    assert feature_name in header, \"Index of {} does not exist\".format(\n",
    "        feature_name)\n",
    "\n",
    "    index = np.where(header == feature_name)\n",
    "    return np.delete(header, index), np.delete(data, index, 1)"
   ]
  },
  {
   "cell_type": "code",
   "execution_count": 9,
   "metadata": {},
   "outputs": [],
   "source": [
    "header, data = delete_feature(header, data, \"Visility indicator\")\n",
    "header, data = delete_feature(header, data, \"hmdx\")\n",
    "header, data = delete_feature(header, data, \"Wind Chill\")"
   ]
  },
  {
   "cell_type": "code",
   "execution_count": 10,
   "metadata": {},
   "outputs": [
    {
     "name": "stdout",
     "output_type": "stream",
     "text": [
      "(1546454, 13)\n",
      "['Date/Hour' 'Temperature (°C)' 'Drew point (°C)'\n",
      " 'Relativite humidity (%)' 'wind direction (10s deg)' 'Wind speed (km/h)'\n",
      " 'Visibility (km)' 'Pressure at the station (kPa)' 'Weather'\n",
      " 'Public Holiday' 'Station Code' 'Withdrawals' 'Volume']\n"
     ]
    }
   ],
   "source": [
    "print(data.shape)\n",
    "print(header)"
   ]
  },
  {
   "cell_type": "markdown",
   "metadata": {},
   "source": [
    "## I.2 Convert Date to Year, Month, Day, Hour"
   ]
  },
  {
   "cell_type": "markdown",
   "metadata": {},
   "source": [
    "In the date we can extract several informations : the Year, the Month, the day, and the hour.\n",
    "\n",
    "From this, we can also deduce a useful information : the day of the week (if it's Monday, Tuesday, etc.)."
   ]
  },
  {
   "cell_type": "code",
   "execution_count": 11,
   "metadata": {},
   "outputs": [],
   "source": [
    "from datetime import datetime"
   ]
  },
  {
   "cell_type": "code",
   "execution_count": 12,
   "metadata": {},
   "outputs": [],
   "source": [
    "def convert_date(header, data):\n",
    "    assert \"Date/Hour\" in header, \"Index of Date/Hour does not exist\"\n",
    "\n",
    "    new_data = []\n",
    "    index = np.where(header == \"Date/Hour\")\n",
    "\n",
    "    for i, d in enumerate(data):\n",
    "        dt = datetime.fromisoformat(d[index][0])\n",
    "        new_data.append(\n",
    "            np.concatenate(\n",
    "                (np.delete(d,\n",
    "                           index), [dt.year, dt.month, dt.day,\n",
    "                                    dt.hour], np.eye(7)[dt.date().weekday()])))\n",
    "\n",
    "    date_header = [\n",
    "        \"Year\", \"Month\", \"Day\", \"Hour\", \"Monday\", \"Tuesday\", \"Wednesday\",\n",
    "        \"Thursday\", \"Friday\", \"Saturday\", \"Sunday\"\n",
    "    ]\n",
    "    new_header = np.concatenate((np.delete(header, index), date_header))\n",
    "\n",
    "    return np.asarray(new_header), np.asarray(new_data)"
   ]
  },
  {
   "cell_type": "code",
   "execution_count": 13,
   "metadata": {},
   "outputs": [],
   "source": [
    "header, data = convert_date(header, data)"
   ]
  },
  {
   "cell_type": "code",
   "execution_count": 14,
   "metadata": {},
   "outputs": [
    {
     "name": "stdout",
     "output_type": "stream",
     "text": [
      "(1546454, 23)\n",
      "['Temperature (°C)' 'Drew point (°C)' 'Relativite humidity (%)'\n",
      " 'wind direction (10s deg)' 'Wind speed (km/h)' 'Visibility (km)'\n",
      " 'Pressure at the station (kPa)' 'Weather' 'Public Holiday' 'Station Code'\n",
      " 'Withdrawals' 'Volume' 'Year' 'Month' 'Day' 'Hour' 'Monday' 'Tuesday'\n",
      " 'Wednesday' 'Thursday' 'Friday' 'Saturday' 'Sunday']\n"
     ]
    }
   ],
   "source": [
    "print(data.shape)\n",
    "print(header)"
   ]
  },
  {
   "cell_type": "markdown",
   "metadata": {},
   "source": [
    "### I.2.1 One Hot encoding for Year and Month"
   ]
  },
  {
   "cell_type": "code",
   "execution_count": 15,
   "metadata": {},
   "outputs": [],
   "source": [
    "def convert_year_month(header, data):\n",
    "    assert \"Year\" in header, \"Index of Year does not exist\"\n",
    "    assert \"Month\" in header, \"Index of Month does not exist\"\n",
    "\n",
    "    new_header, new_data = [], []\n",
    "\n",
    "    y_index = np.where(header == \"Year\")\n",
    "    m_index = np.where(header == \"Month\")\n",
    "\n",
    "    y_mapping, y_int = np.unique(data[:, y_index], return_inverse=True)\n",
    "    m_mapping, m_int = np.unique(data[:, m_index], return_inverse=True)\n",
    "\n",
    "    y_header = [\"Year \" + str(m) for m in y_mapping]\n",
    "    m_header = [\"Month \" + str(m) for m in m_mapping]\n",
    "\n",
    "    new_header = np.concatenate(\n",
    "        (np.delete(header, (y_index, m_index)), y_header, m_header))\n",
    "\n",
    "    for i, (d, y, m) in enumerate(zip(data, y_int, m_int)):\n",
    "        year = np.eye(y_mapping.shape[0])[y]\n",
    "        month = np.eye(m_mapping.shape[0])[m]\n",
    "        new_data.append(\n",
    "            np.concatenate((np.delete(d, (y_index, m_index)), year, month)))\n",
    "\n",
    "    return np.asarray(new_header), np.asarray(new_data)"
   ]
  },
  {
   "cell_type": "code",
   "execution_count": 16,
   "metadata": {},
   "outputs": [],
   "source": [
    "header, data = convert_year_month(header, data)"
   ]
  },
  {
   "cell_type": "code",
   "execution_count": 17,
   "metadata": {},
   "outputs": [
    {
     "name": "stdout",
     "output_type": "stream",
     "text": [
      "(1546454, 31)\n",
      "['Temperature (°C)' 'Drew point (°C)' 'Relativite humidity (%)'\n",
      " 'wind direction (10s deg)' 'Wind speed (km/h)' 'Visibility (km)'\n",
      " 'Pressure at the station (kPa)' 'Weather' 'Public Holiday' 'Station Code'\n",
      " 'Withdrawals' 'Volume' 'Day' 'Hour' 'Monday' 'Tuesday' 'Wednesday'\n",
      " 'Thursday' 'Friday' 'Saturday' 'Sunday' 'Year 2015' 'Year 2016'\n",
      " 'Month 10' 'Month 11' 'Month 4' 'Month 5' 'Month 6' 'Month 7' 'Month 8'\n",
      " 'Month 9']\n"
     ]
    }
   ],
   "source": [
    "print(data.shape)\n",
    "print(header)"
   ]
  },
  {
   "cell_type": "markdown",
   "metadata": {},
   "source": [
    "## I.3 Convert Weather to binary vector"
   ]
  },
  {
   "cell_type": "code",
   "execution_count": 18,
   "metadata": {},
   "outputs": [],
   "source": [
    "def convert_weather(header, data, weather):\n",
    "    assert \"Weather\" in header, \"Index of Weather does not exist\"\n",
    "\n",
    "    new_data = []\n",
    "    N = len(weather)\n",
    "    index = np.where(header == \"Weather\")\n",
    "\n",
    "    for i, d in enumerate(data):\n",
    "        new_weather = [\n",
    "            1 if any([w == v for v in d[index][0].split(\",\")]) else 0\n",
    "            for w in weather\n",
    "        ]\n",
    "        new_data.append(np.concatenate((np.delete(d, index), new_weather)))\n",
    "\n",
    "    new_header = np.concatenate((np.delete(header, index), weather))\n",
    "\n",
    "    return np.asarray(new_header), np.asarray(new_data)"
   ]
  },
  {
   "cell_type": "code",
   "execution_count": 19,
   "metadata": {},
   "outputs": [],
   "source": [
    "weather = [\n",
    "    'Orages', 'Brouillard', 'Bruine', 'Généralement dégagé',\n",
    "    'Généralement nuageux', 'Pluie', 'Pluie modérée', 'Pluie forte', 'Dégagé',\n",
    "    'Nuageux', 'Neige'\n",
    "]\n",
    "\n",
    "header, data = convert_weather(header, data, weather)"
   ]
  },
  {
   "cell_type": "code",
   "execution_count": 20,
   "metadata": {},
   "outputs": [
    {
     "name": "stdout",
     "output_type": "stream",
     "text": [
      "(1546454, 41)\n",
      "['Temperature (°C)' 'Drew point (°C)' 'Relativite humidity (%)'\n",
      " 'wind direction (10s deg)' 'Wind speed (km/h)' 'Visibility (km)'\n",
      " 'Pressure at the station (kPa)' 'Public Holiday' 'Station Code'\n",
      " 'Withdrawals' 'Volume' 'Day' 'Hour' 'Monday' 'Tuesday' 'Wednesday'\n",
      " 'Thursday' 'Friday' 'Saturday' 'Sunday' 'Year 2015' 'Year 2016'\n",
      " 'Month 10' 'Month 11' 'Month 4' 'Month 5' 'Month 6' 'Month 7' 'Month 8'\n",
      " 'Month 9' 'Orages' 'Brouillard' 'Bruine' 'Généralement dégagé'\n",
      " 'Généralement nuageux' 'Pluie' 'Pluie modérée' 'Pluie forte' 'Dégagé'\n",
      " 'Nuageux' 'Neige']\n"
     ]
    }
   ],
   "source": [
    "print(data.shape)\n",
    "print(header)"
   ]
  },
  {
   "cell_type": "markdown",
   "metadata": {},
   "source": [
    "## I.4. Convert feature type from string to float (remove samples with missing values)"
   ]
  },
  {
   "cell_type": "code",
   "execution_count": 21,
   "metadata": {},
   "outputs": [
    {
     "name": "stdout",
     "output_type": "stream",
     "text": [
      "2184\n",
      "174\n"
     ]
    }
   ],
   "source": [
    "# samples with at least one missing value\n",
    "missing = [d for d in data if \"\" in d]\n",
    "print(len(missing))\n",
    "\n",
    "# number of class 1 with missing value\n",
    "index = np.where(header == \"Volume\")\n",
    "print(sum([\"1\" in d[index] for d in missing]))"
   ]
  },
  {
   "cell_type": "markdown",
   "metadata": {},
   "source": [
    "Let's remove the samples with missing values as only one hundred have label 1."
   ]
  },
  {
   "cell_type": "code",
   "execution_count": 22,
   "metadata": {},
   "outputs": [],
   "source": [
    "def convert_type(data):\n",
    "    return np.asarray([[float(v.replace(\",\", \".\")) for v in d] for d in data\n",
    "                       if \"\" not in d])"
   ]
  },
  {
   "cell_type": "code",
   "execution_count": 23,
   "metadata": {},
   "outputs": [],
   "source": [
    "data = convert_type(data)"
   ]
  },
  {
   "cell_type": "code",
   "execution_count": 24,
   "metadata": {},
   "outputs": [
    {
     "name": "stdout",
     "output_type": "stream",
     "text": [
      "(1544270, 41)\n",
      "['Temperature (°C)' 'Drew point (°C)' 'Relativite humidity (%)'\n",
      " 'wind direction (10s deg)' 'Wind speed (km/h)' 'Visibility (km)'\n",
      " 'Pressure at the station (kPa)' 'Public Holiday' 'Station Code'\n",
      " 'Withdrawals' 'Volume' 'Day' 'Hour' 'Monday' 'Tuesday' 'Wednesday'\n",
      " 'Thursday' 'Friday' 'Saturday' 'Sunday' 'Year 2015' 'Year 2016'\n",
      " 'Month 10' 'Month 11' 'Month 4' 'Month 5' 'Month 6' 'Month 7' 'Month 8'\n",
      " 'Month 9' 'Orages' 'Brouillard' 'Bruine' 'Généralement dégagé'\n",
      " 'Généralement nuageux' 'Pluie' 'Pluie modérée' 'Pluie forte' 'Dégagé'\n",
      " 'Nuageux' 'Neige']\n"
     ]
    }
   ],
   "source": [
    "print(data.shape)\n",
    "print(header)"
   ]
  },
  {
   "cell_type": "markdown",
   "metadata": {},
   "source": [
    "## I.5. Normalization of continuous data"
   ]
  },
  {
   "cell_type": "markdown",
   "metadata": {},
   "source": [
    "The concerned features are : Temperature, Drew point, Relativite humidity, wind direction, Wind speed, and Pressure at the station"
   ]
  },
  {
   "cell_type": "code",
   "execution_count": 25,
   "metadata": {},
   "outputs": [],
   "source": [
    "def normalization_feature(header, data, feature_name):\n",
    "    assert feature_name in header, \"Index of {} does not exist\".format(\n",
    "        feature_name)\n",
    "    index = np.where(header == feature_name)\n",
    "    data[:, index] = (data[:, index] - np.mean(data[:, index])) / np.std(\n",
    "        data[:, index])"
   ]
  },
  {
   "cell_type": "code",
   "execution_count": 26,
   "metadata": {},
   "outputs": [],
   "source": [
    "normalization_feature(header, data, \"Temperature (°C)\")\n",
    "normalization_feature(header, data, \"Drew point (°C)\")\n",
    "normalization_feature(header, data, \"Relativite humidity (%)\")\n",
    "normalization_feature(header, data, \"wind direction (10s deg)\")\n",
    "normalization_feature(header, data, \"Wind speed (km/h)\")\n",
    "normalization_feature(header, data, \"Pressure at the station (kPa)\")"
   ]
  },
  {
   "cell_type": "markdown",
   "metadata": {},
   "source": [
    "## I.6. Get x, y (withdrawals) and label (volume)"
   ]
  },
  {
   "cell_type": "code",
   "execution_count": 27,
   "metadata": {},
   "outputs": [],
   "source": [
    "y_index = np.where(header == \"Withdrawals\")\n",
    "l_index = np.where(header == \"Volume\")\n",
    "\n",
    "y = data[:, y_index].reshape(-1)\n",
    "label = data[:, l_index].reshape(-1)\n",
    "x = np.delete(data, (y_index, l_index), 1)\n",
    "\n",
    "header = np.delete(header, (y_index, l_index))"
   ]
  },
  {
   "cell_type": "markdown",
   "metadata": {},
   "source": [
    "# II/ Data analysis & visualization"
   ]
  },
  {
   "cell_type": "code",
   "execution_count": 28,
   "metadata": {},
   "outputs": [],
   "source": [
    "import seaborn as sns\n",
    "import matplotlib.pyplot as plt"
   ]
  },
  {
   "cell_type": "markdown",
   "metadata": {},
   "source": [
    "## II.1. Distribution of the features"
   ]
  },
  {
   "cell_type": "code",
   "execution_count": 29,
   "metadata": {},
   "outputs": [],
   "source": [
    "def plot_feature(header, x, feature_name):\n",
    "    assert feature_name in header, \"Index of {} does not exist\".format(\n",
    "        feature_name)\n",
    "    index = np.where(header == feature_name)\n",
    "\n",
    "    plt.figure(figsize=(6, 4), dpi=300)\n",
    "    sns.distplot(x[:, index])\n",
    "    plt.show()"
   ]
  },
  {
   "cell_type": "code",
   "execution_count": 30,
   "metadata": {},
   "outputs": [
    {
     "data": {
      "image/png": "[encoded data removed]",
      "text/plain": [
       "<Figure size 1800x1200 with 1 Axes>"
      ]
     },
     "metadata": {
      "needs_background": "light"
     },
     "output_type": "display_data"
    }
   ],
   "source": [
    "plot_feature(header, x, \"Temperature (°C)\")"
   ]
  },
  {
   "cell_type": "markdown",
   "metadata": {},
   "source": [
    "## II.2. Correlation of features and output"
   ]
  },
  {
   "cell_type": "markdown",
   "metadata": {},
   "source": [
    "### II.2.1. Correlation matrix of the features"
   ]
  },
  {
   "cell_type": "code",
   "execution_count": 31,
   "metadata": {
    "scrolled": false
   },
   "outputs": [],
   "source": [
    "def corr_matrix(header, x):\n",
    "    mask = np.zeros((x.shape[1], x.shape[1]), dtype=np.bool)\n",
    "    mask[np.triu_indices_from(mask)] = True\n",
    "    cmap = sns.diverging_palette(220, 10, as_cmap=True)\n",
    "    plt.figure(figsize=(14, 12), dpi=300)\n",
    "    sns.heatmap(np.corrcoef(x.T),\n",
    "                mask=mask,\n",
    "                center=0,\n",
    "                cmap=cmap,\n",
    "                square=True,\n",
    "                linewidths=.5,\n",
    "                cbar_kws={\"shrink\": .5},\n",
    "                xticklabels=header,\n",
    "                yticklabels=header)\n",
    "    plt.show()"
   ]
  },
  {
   "cell_type": "markdown",
   "metadata": {},
   "source": [
    "### II.2.2. Correlation between each features with the output"
   ]
  },
  {
   "cell_type": "code",
   "execution_count": 32,
   "metadata": {},
   "outputs": [],
   "source": [
    "def feature_output_corr(header, x, y):\n",
    "    coeff = [np.corrcoef(feature, y)[0][1] for feature in x.T]\n",
    "    abs_coeff = list(map(abs, coeff))\n",
    "    for _, coeff, name in sorted(zip(abs_coeff, coeff, header), reverse=True):\n",
    "        print(\"{:30} : {:6.3f}\".format(name, coeff))"
   ]
  },
  {
   "cell_type": "code",
   "execution_count": 33,
   "metadata": {
    "scrolled": false
   },
   "outputs": [
    {
     "name": "stdout",
     "output_type": "stream",
     "text": [
      "Temperature (°C)               :  0.331\n",
      "Relativite humidity (%)        : -0.294\n",
      "Hour                           :  0.288\n",
      "Visibility (km)                :  0.233\n",
      "Drew point (°C)                :  0.116\n",
      "Wind speed (km/h)              :  0.107\n",
      "Pluie                          : -0.095\n",
      "Year 2016                      :  0.088\n",
      "Year 2015                      : -0.088\n",
      "Month 4                        : -0.087\n",
      "Month 10                       : -0.084\n",
      "Month 11                       : -0.076\n",
      "Month 7                        :  0.072\n",
      "Brouillard                     : -0.066\n",
      "Sunday                         : -0.056\n",
      "Month 8                        :  0.055\n",
      "Dégagé                         : -0.049\n",
      "wind direction (10s deg)       :  0.042\n",
      "Month 6                        :  0.039\n",
      "Station Code                   : -0.038\n",
      "Thursday                       :  0.035\n",
      "Bruine                         : -0.031\n",
      "Généralement dégagé            :  0.028\n",
      "Généralement nuageux           :  0.028\n",
      "Saturday                       : -0.025\n",
      "Pluie modérée                  : -0.024\n",
      "Nuageux                        : -0.024\n",
      "Wednesday                      :  0.024\n",
      "Friday                         :  0.023\n",
      "Pressure at the station (kPa)  : -0.016\n",
      "Neige                          : -0.016\n",
      "Tuesday                        :  0.013\n",
      "Monday                         : -0.013\n",
      "Public Holiday                 : -0.010\n",
      "Pluie forte                    : -0.009\n",
      "Orages                         : -0.008\n",
      "Month 5                        :  0.005\n",
      "Day                            :  0.005\n",
      "Month 9                        : -0.003\n"
     ]
    }
   ],
   "source": [
    "feature_output_corr(header, x, y)"
   ]
  },
  {
   "cell_type": "code",
   "execution_count": 34,
   "metadata": {},
   "outputs": [
    {
     "name": "stdout",
     "output_type": "stream",
     "text": [
      "Temperature (°C)               :  0.198\n",
      "Relativite humidity (%)        : -0.167\n",
      "Hour                           :  0.146\n",
      "Visibility (km)                :  0.139\n",
      "Drew point (°C)                :  0.073\n",
      "Year 2016                      :  0.062\n",
      "Year 2015                      : -0.062\n",
      "Wind speed (km/h)              :  0.062\n",
      "Month 4                        : -0.056\n",
      "Month 10                       : -0.055\n",
      "Pluie                          : -0.051\n",
      "Month 7                        :  0.048\n",
      "Month 11                       : -0.045\n",
      "Month 8                        :  0.037\n",
      "Sunday                         : -0.035\n",
      "Brouillard                     : -0.034\n",
      "Station Code                   : -0.033\n",
      "Dégagé                         : -0.032\n",
      "Month 6                        :  0.025\n",
      "wind direction (10s deg)       :  0.025\n",
      "Thursday                       :  0.021\n",
      "Nuageux                        : -0.020\n",
      "Saturday                       : -0.019\n",
      "Wednesday                      :  0.016\n",
      "Bruine                         : -0.016\n",
      "Pressure at the station (kPa)  : -0.014\n",
      "Généralement dégagé            :  0.012\n",
      "Friday                         :  0.012\n",
      "Pluie modérée                  : -0.012\n",
      "Tuesday                        :  0.010\n",
      "Généralement nuageux           :  0.009\n",
      "Orages                         : -0.007\n",
      "Neige                          : -0.007\n",
      "Public Holiday                 : -0.006\n",
      "Monday                         : -0.006\n",
      "Pluie forte                    : -0.004\n",
      "Month 9                        : -0.002\n",
      "Day                            :  0.002\n",
      "Month 5                        :  0.000\n"
     ]
    }
   ],
   "source": [
    "feature_output_corr(header, x, label)"
   ]
  },
  {
   "cell_type": "markdown",
   "metadata": {},
   "source": [
    "# Models"
   ]
  },
  {
   "cell_type": "markdown",
   "metadata": {},
   "source": [
    "## 1.1 Split into train and validation subsets"
   ]
  },
  {
   "cell_type": "code",
   "execution_count": 35,
   "metadata": {},
   "outputs": [],
   "source": [
    "split = int(x.shape[0] * 0.8)\n",
    "x_train, x_test = x[:split], x[split:]\n",
    "y_train, y_test = y[:split], y[split:]\n",
    "label_train, label_test = label[:split], label[split:]"
   ]
  },
  {
   "cell_type": "code",
   "execution_count": 36,
   "metadata": {},
   "outputs": [],
   "source": [
    "from sklearn.metrics import f1_score, precision_score, recall_score\n",
    "from sklearn.model_selection import train_test_split"
   ]
  },
  {
   "cell_type": "code",
   "execution_count": 37,
   "metadata": {},
   "outputs": [],
   "source": [
    "def compute_f1(proba, y_true, step=0.01, plot=False):\n",
    "    f1 = []\n",
    "\n",
    "    for threshold in np.arange(0, 1, step):\n",
    "        y_pred = [int(y > threshold) for y in proba]\n",
    "        f1.append(f1_score(y_true, y_pred) if 1 in y_pred else 0)\n",
    "\n",
    "    if plot:\n",
    "        plt.figure(figsize=(6, 4), dpi=300)\n",
    "        plt.plot(np.arange(0, 1, step), f1)\n",
    "        plt.xlabel('Threshold')\n",
    "        plt.ylabel('F1-score')\n",
    "        plt.show()\n",
    "\n",
    "    return max(f1), step * np.argmax(f1)"
   ]
  },
  {
   "cell_type": "markdown",
   "metadata": {},
   "source": [
    "### Logistic regression"
   ]
  },
  {
   "cell_type": "code",
   "execution_count": 38,
   "metadata": {},
   "outputs": [],
   "source": [
    "from sklearn.linear_model import LogisticRegression"
   ]
  },
  {
   "cell_type": "code",
   "execution_count": 39,
   "metadata": {},
   "outputs": [
    {
     "name": "stderr",
     "output_type": "stream",
     "text": [
      "/home/quentin/venv3.7/lib/python3.7/site-packages/sklearn/linear_model/logistic.py:432: FutureWarning: Default solver will be changed to 'lbfgs' in 0.22. Specify a solver to silence this warning.\n",
      "  FutureWarning)\n"
     ]
    }
   ],
   "source": [
    "model = LogisticRegression(max_iter=9999, class_weight={0: 1, 1: 6})\n",
    "model = model.fit(x_train, label_train)"
   ]
  },
  {
   "cell_type": "code",
   "execution_count": 40,
   "metadata": {},
   "outputs": [],
   "source": [
    "prediction = model.predict_proba(x_test)\n",
    "proba = list(zip(*prediction))[1]"
   ]
  },
  {
   "cell_type": "code",
   "execution_count": 41,
   "metadata": {},
   "outputs": [
    {
     "data": {
      "image/png": "[encoded data removed]",
      "text/plain": [
       "<Figure size 1800x1200 with 1 Axes>"
      ]
     },
     "metadata": {
      "needs_background": "light"
     },
     "output_type": "display_data"
    },
    {
     "data": {
      "text/plain": [
       "(0.2911576249466041, 0.51)"
      ]
     },
     "execution_count": 41,
     "metadata": {},
     "output_type": "execute_result"
    }
   ],
   "source": [
    "compute_f1(proba, label_test, plot=True)"
   ]
  }
 ],
 "metadata": {
  "kernelspec": {
   "display_name": "Python 3",
   "language": "python",
   "name": "python3"
  },
  "language_info": {
   "codemirror_mode": {
    "name": "ipython",
    "version": 3
   },
   "file_extension": ".py",
   "mimetype": "text/x-python",
   "name": "python",
   "nbconvert_exporter": "python",
   "pygments_lexer": "ipython3",
   "version": "3.7.3"
  }
 },
 "nbformat": 4,
 "nbformat_minor": 2
}
