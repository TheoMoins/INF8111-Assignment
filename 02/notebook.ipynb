{
 "cells": [
  {
   "cell_type": "code",
   "execution_count": null,
   "metadata": {},
   "outputs": [],
   "source": [
    "import warnings\n",
    "warnings.filterwarnings(\"ignore\")"
   ]
  },
  {
   "cell_type": "markdown",
   "metadata": {},
   "source": [
    "# Load data"
   ]
  },
  {
   "cell_type": "code",
   "execution_count": null,
   "metadata": {},
   "outputs": [],
   "source": [
    "import re\n",
    "import csv\n",
    "import itertools\n",
    "import numpy as np"
   ]
  },
  {
   "cell_type": "code",
   "execution_count": null,
   "metadata": {},
   "outputs": [],
   "source": [
    "def load_data(path, limit=None):\n",
    "    with open(path) as file:\n",
    "        reader = csv.reader(file, delimiter=',')\n",
    "        # get header\n",
    "        header = next(reader)\n",
    "        data = np.asarray([[value for value in row] for row in itertools.islice(reader, limit)])\n",
    "    return header, data"
   ]
  },
  {
   "cell_type": "code",
   "execution_count": null,
   "metadata": {},
   "outputs": [],
   "source": [
    "header, data = load_data(\"data/training.csv\")"
   ]
  },
  {
   "cell_type": "code",
   "execution_count": null,
   "metadata": {},
   "outputs": [],
   "source": [
    "print(data.shape)"
   ]
  },
  {
   "cell_type": "markdown",
   "metadata": {},
   "source": [
    "# Data preprocessing"
   ]
  },
  {
   "cell_type": "markdown",
   "metadata": {},
   "source": [
    "### Remove features"
   ]
  },
  {
   "cell_type": "code",
   "execution_count": null,
   "metadata": {},
   "outputs": [],
   "source": [
    "def print_sample(header, data):\n",
    "    for i, (feature, value) in enumerate(zip(header, data[0])):\n",
    "        print(\"({:^2d}) {:30} : {}\".format(i, feature, value))"
   ]
  },
  {
   "cell_type": "code",
   "execution_count": null,
   "metadata": {},
   "outputs": [],
   "source": [
    "def print_feature(header, data, max_feature=5):\n",
    "    for n_feature, feature in enumerate(data.T):\n",
    "        values, counts = np.unique(feature, return_counts=True)\n",
    "        counts_values = sorted(zip(counts, values), reverse=True)\n",
    "        print(\"-\" * 50)\n",
    "        print(\"{} ({})\".format(header[n_feature], len(values)))\n",
    "        print(\"-\" * 50)\n",
    "        for i, (v, c) in enumerate(counts_values):\n",
    "            if i > max_feature:\n",
    "                break\n",
    "            print(\"{:10} : {:10} ({:5.1%})\".format(c, v, v / data.shape[0]))"
   ]
  },
  {
   "cell_type": "code",
   "execution_count": null,
   "metadata": {},
   "outputs": [],
   "source": [
    "print_feature(header, data)"
   ]
  },
  {
   "cell_type": "markdown",
   "metadata": {},
   "source": [
    "We can remove the feature without values in over 50% of samples. We decide to keep Weather as it is discrete and we can easily replace it with a one-hot vector. We also need to remove Withdrawals that is not available in test data."
   ]
  },
  {
   "cell_type": "code",
   "execution_count": null,
   "metadata": {},
   "outputs": [],
   "source": [
    "data = np.delete(data, [7, 9, 10, 14], 1)\n",
    "header = np.delete(header, [7, 9, 10, 14])"
   ]
  },
  {
   "cell_type": "markdown",
   "metadata": {},
   "source": [
    "### Convert Date (feature 0)"
   ]
  },
  {
   "cell_type": "code",
   "execution_count": null,
   "metadata": {},
   "outputs": [],
   "source": [
    "def convert_date(data, index):\n",
    "    new_data = []\n",
    "    for i, d in enumerate(data):\n",
    "        new_data.append(\n",
    "            re.split('-| |:|', d[index])[:-1] + list(d[index + 1:]))\n",
    "    return np.asarray(new_data)"
   ]
  },
  {
   "cell_type": "code",
   "execution_count": null,
   "metadata": {},
   "outputs": [],
   "source": [
    "index_date = 0\n",
    "data = convert_date(data, index_date)\n",
    "header = [\"Year\", \"Month\", \"Day\", \"Hour\"] + list(header[index_date + 1:])"
   ]
  },
  {
   "cell_type": "markdown",
   "metadata": {},
   "source": [
    "### Convert Weather (feature 12)"
   ]
  },
  {
   "cell_type": "code",
   "execution_count": null,
   "metadata": {},
   "outputs": [],
   "source": [
    "def convert_weather(data, weather, index):\n",
    "    N = len(weather)\n",
    "    new_data = []\n",
    "    for i, d in enumerate(data):\n",
    "        new_data.append(\n",
    "            list(d[:index]) +\n",
    "            [1 if w.lower() in d[index].lower() else 0\n",
    "             for w in weather] + list(d[index + 1:]))\n",
    "    return np.asarray(new_data)"
   ]
  },
  {
   "cell_type": "code",
   "execution_count": null,
   "metadata": {},
   "outputs": [],
   "source": [
    "index_weather = 11\n",
    "set(l for s in set(data.T[index_weather]) for l in s.split(\",\"))"
   ]
  },
  {
   "cell_type": "code",
   "execution_count": null,
   "metadata": {},
   "outputs": [],
   "source": [
    "weather = [\n",
    "    'Orages', 'Brouillard', 'Bruine', 'Généralement dégagé',\n",
    "    'Généralement nuageux', 'Pluie', 'Pluie modérée', 'Pluie forte', 'Dégagé',\n",
    "    'Nuageux', 'Neige'\n",
    "]\n",
    "data = convert_weather(data, weather, index_weather)\n",
    "header = list(header[:index_weather]) + weather + list(\n",
    "    header[index_weather + 1:])"
   ]
  },
  {
   "cell_type": "markdown",
   "metadata": {},
   "source": [
    "### Convert data type to float"
   ]
  },
  {
   "cell_type": "code",
   "execution_count": null,
   "metadata": {},
   "outputs": [],
   "source": [
    "# samples with at least one missing value\n",
    "missing = [d for d in data if '' in d]\n",
    "print(len(missing))\n",
    "\n",
    "# number of class 1 with missing value\n",
    "print(sum(['1' in d[-1] for d in missing]))"
   ]
  },
  {
   "cell_type": "markdown",
   "metadata": {},
   "source": [
    "Let's remove the samples with missing values as only one hundred have label 1."
   ]
  },
  {
   "cell_type": "code",
   "execution_count": null,
   "metadata": {},
   "outputs": [],
   "source": [
    "def convert_type(data):\n",
    "    return np.asarray(\n",
    "        [[float(v.replace(\",\", \".\")) for v in d] for d in data if \"\" not in d])"
   ]
  },
  {
   "cell_type": "code",
   "execution_count": null,
   "metadata": {},
   "outputs": [],
   "source": [
    "data = convert_type(data)"
   ]
  },
  {
   "cell_type": "code",
   "execution_count": null,
   "metadata": {},
   "outputs": [],
   "source": [
    "print_sample(header, data)"
   ]
  },
  {
   "cell_type": "code",
   "execution_count": null,
   "metadata": {},
   "outputs": [],
   "source": [
    "print(data.shape)"
   ]
  },
  {
   "cell_type": "markdown",
   "metadata": {},
   "source": [
    "# Data analysis & visualization"
   ]
  },
  {
   "cell_type": "code",
   "execution_count": null,
   "metadata": {},
   "outputs": [],
   "source": [
    "import seaborn as sns\n",
    "import matplotlib.pyplot as plt"
   ]
  },
  {
   "cell_type": "code",
   "execution_count": null,
   "metadata": {},
   "outputs": [],
   "source": [
    "def plot_features(header, data):\n",
    "    cols = 4\n",
    "    n = data.shape[1] // cols + 1\n",
    "    fig, ax = plt.subplots(nrows=n, ncols=cols, figsize=(cols * 6, n * 6))\n",
    "    for i, (name, feature) in enumerate(zip(header, data.T)):\n",
    "        ax[i // cols, i % cols].hist(feature)\n",
    "        ax[i // cols, i % cols].set_title(name)\n",
    "    plt.show()"
   ]
  },
  {
   "cell_type": "code",
   "execution_count": null,
   "metadata": {},
   "outputs": [],
   "source": [
    "plot_features(header, data)"
   ]
  },
  {
   "cell_type": "markdown",
   "metadata": {},
   "source": [
    "# Logistic regression"
   ]
  },
  {
   "cell_type": "code",
   "execution_count": null,
   "metadata": {},
   "outputs": [],
   "source": [
    "from sklearn.metrics import f1_score, recall_score, precision_score\n",
    "from sklearn.linear_model import LogisticRegression\n",
    "from sklearn.model_selection import train_test_split\n",
    "from sklearn.preprocessing import MinMaxScaler"
   ]
  },
  {
   "cell_type": "code",
   "execution_count": null,
   "metadata": {},
   "outputs": [],
   "source": [
    "x, y = data[:, :-1], data[:, -1]"
   ]
  },
  {
   "cell_type": "code",
   "execution_count": null,
   "metadata": {},
   "outputs": [],
   "source": [
    "scaler = MinMaxScaler()\n",
    "x = scaler.fit_transform(x)"
   ]
  },
  {
   "cell_type": "code",
   "execution_count": null,
   "metadata": {},
   "outputs": [],
   "source": [
    "x_train, x_test, y_train, y_test = train_test_split(\n",
    "    x, y, test_size=0.20, stratify=y)"
   ]
  },
  {
   "cell_type": "code",
   "execution_count": null,
   "metadata": {},
   "outputs": [],
   "source": [
    "model = LogisticRegression(max_iter=9999, class_weight={0: 1, 1: 6})\n",
    "model.fit(x_train, y_train)\n",
    "pred = model.predict_proba(x_test)"
   ]
  },
  {
   "cell_type": "code",
   "execution_count": null,
   "metadata": {},
   "outputs": [],
   "source": [
    "best_f1 = -1\n",
    "for i in range(0, 100):\n",
    "    y_pred = [1 if y[1] > i / 100 else 0 for y in pred]\n",
    "    if 1 in y_pred:\n",
    "        best_f1 = max(best_f1, f1_score(y_test, y_pred))\n",
    "print(best_f1)"
   ]
  },
  {
   "cell_type": "code",
   "execution_count": null,
   "metadata": {},
   "outputs": [],
   "source": [
    "y_pred = [1 if y[1] > 0.5 else 0 for y in pred]\n",
    "print(f1_score(y_test, y_pred))"
   ]
  },
  {
   "cell_type": "code",
   "execution_count": null,
   "metadata": {},
   "outputs": [],
   "source": [
    "import keras\n",
    "from keras.models import Sequential\n",
    "from keras.layers import Dense, Dropout\n",
    "from keras.optimizers import Adam\n",
    "\n",
    "model = Sequential()\n",
    "model.add(Dense(64, activation='relu', input_shape=(24, )))\n",
    "model.add(Dense(32, activation='relu'))\n",
    "model.add(Dense(1, activation='sigmoid'))\n",
    "\n",
    "model.compile(loss='binary_crossentropy', optimizer=Adam())\n",
    "\n",
    "model.fit(\n",
    "    x_train,\n",
    "    y_train,\n",
    "    batch_size=128,\n",
    "    epochs=5,\n",
    "    verbose=1,\n",
    "    class_weight={\n",
    "        0: 1,\n",
    "        1: 10\n",
    "    })\n",
    "pred = model.predict(x_test)\n",
    "best_f1 = -1\n",
    "for i in range(0, 100):\n",
    "    y_pred = [1 if y > i / 100 else 0 for y in pred]\n",
    "    if 1 in y_pred:\n",
    "        best_f1 = max(best_f1, f1_score(y_test, y_pred))\n",
    "print(best_f1)"
   ]
  },
  {
   "cell_type": "code",
   "execution_count": null,
   "metadata": {},
   "outputs": [],
   "source": []
  }
 ],
 "metadata": {
  "kernelspec": {
   "display_name": "Python 3",
   "language": "python",
   "name": "python3"
  },
  "language_info": {
   "codemirror_mode": {
    "name": "ipython",
    "version": 3
   },
   "file_extension": ".py",
   "mimetype": "text/x-python",
   "name": "python",
   "nbconvert_exporter": "python",
   "pygments_lexer": "ipython3",
   "version": "3.6.7"
  }
 },
 "nbformat": 4,
 "nbformat_minor": 2
}
