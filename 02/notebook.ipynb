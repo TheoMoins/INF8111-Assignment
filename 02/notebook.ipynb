{
 "cells": [
  {
   "cell_type": "code",
   "execution_count": 1,
   "metadata": {},
   "outputs": [],
   "source": [
    "import warnings\n",
    "warnings.filterwarnings(\"ignore\")"
   ]
  },
  {
   "cell_type": "markdown",
   "metadata": {},
   "source": [
    "# Load data"
   ]
  },
  {
   "cell_type": "code",
   "execution_count": 2,
   "metadata": {},
   "outputs": [],
   "source": [
    "import re\n",
    "import csv\n",
    "import itertools\n",
    "import numpy as np"
   ]
  },
  {
   "cell_type": "code",
   "execution_count": 3,
   "metadata": {},
   "outputs": [],
   "source": [
    "def load_data(path, limit=None):\n",
    "    with open(path, encoding = 'utf8') as file:\n",
    "        reader = csv.reader(file, delimiter=',')\n",
    "        # get header\n",
    "        header = next(reader)\n",
    "        data = np.asarray([[value for value in row] for row in itertools.islice(reader, limit)])\n",
    "    return header, data"
   ]
  },
  {
   "cell_type": "code",
   "execution_count": 4,
   "metadata": {},
   "outputs": [],
   "source": [
    "header, data = load_data(\"data/training.csv\", limit=100000)"
   ]
  },
  {
   "cell_type": "code",
   "execution_count": 5,
   "metadata": {},
   "outputs": [
    {
     "name": "stdout",
     "output_type": "stream",
     "text": [
      "['Date/Hour', 'Temperature (°C)', 'Drew point (°C)', 'Relativite humidity (%)', 'wind direction (10s deg)', 'Wind speed (km/h)', 'Visibility (km)', 'Visility indicator', 'Pressure at the station (kPa)', 'hmdx', 'Wind Chill', 'Weather', 'Public Holiday', 'Station Code', 'Withdrawals', 'Volume']\n"
     ]
    }
   ],
   "source": [
    "print(header)"
   ]
  },
  {
   "cell_type": "markdown",
   "metadata": {},
   "source": [
    "# I/ Data preprocessing"
   ]
  },
  {
   "cell_type": "markdown",
   "metadata": {},
   "source": [
    "## I.1. Remove features with mostly missing values"
   ]
  },
  {
   "cell_type": "code",
   "execution_count": 6,
   "metadata": {},
   "outputs": [],
   "source": [
    "def print_sample(header, data, n=0):\n",
    "    for i, (feature, value) in enumerate(zip(header, data[n])):\n",
    "        print(\"({:^2d}) {:30} : {}\".format(i, feature, value))"
   ]
  },
  {
   "cell_type": "code",
   "execution_count": 7,
   "metadata": {},
   "outputs": [],
   "source": [
    "def print_feature(header, data, max_feature=5):\n",
    "    for n_feature, feature in enumerate(data.T):\n",
    "        values, counts = np.unique(feature, return_counts=True)\n",
    "        counts_values = sorted(zip(counts, values), reverse=True)\n",
    "        print(\"-\" * 50)\n",
    "        print(\"({:02d}) {} ({})\".format(n_feature, header[n_feature], len(values)))\n",
    "        print(\"-\" * 50)\n",
    "        for i, (v, c) in enumerate(counts_values):\n",
    "            if i > max_feature:\n",
    "                break\n",
    "            print(\"{:10} : {:10} ({:5.1%})\".format(c, v, v / data.shape[0]))"
   ]
  },
  {
   "cell_type": "code",
   "execution_count": 8,
   "metadata": {},
   "outputs": [
    {
     "name": "stdout",
     "output_type": "stream",
     "text": [
      "--------------------------------------------------\n",
      "(00) Date/Hour (8497)\n",
      "--------------------------------------------------\n",
      "2016-07-20 04:00 :         24 ( 0.0%)\n",
      "2016-06-19 07:00 :         24 ( 0.0%)\n",
      "2016-05-26 15:00 :         24 ( 0.0%)\n",
      "2015-10-25 20:00 :         24 ( 0.0%)\n",
      "2015-04-24 03:00 :         24 ( 0.0%)\n",
      "2016-08-30 07:00 :         23 ( 0.0%)\n",
      "--------------------------------------------------\n",
      "(01) Temperature (°C) (358)\n",
      "--------------------------------------------------\n",
      "21,1       :        754 ( 0.8%)\n",
      "21,0       :        748 ( 0.7%)\n",
      "19,5       :        737 ( 0.7%)\n",
      "19,0       :        723 ( 0.7%)\n",
      "21,5       :        713 ( 0.7%)\n",
      "20,3       :        697 ( 0.7%)\n",
      "--------------------------------------------------\n",
      "(02) Drew point (°C) (372)\n",
      "--------------------------------------------------\n",
      "16,0       :        893 ( 0.9%)\n",
      "15,3       :        857 ( 0.9%)\n",
      "16,2       :        855 ( 0.9%)\n",
      "17,7       :        799 ( 0.8%)\n",
      "14,5       :        782 ( 0.8%)\n",
      "13,8       :        782 ( 0.8%)\n",
      "--------------------------------------------------\n",
      "(03) Relativite humidity (%) (89)\n",
      "--------------------------------------------------\n",
      "73         :       2235 ( 2.2%)\n",
      "61         :       2008 ( 2.0%)\n",
      "67         :       2005 ( 2.0%)\n",
      "75         :       1971 ( 2.0%)\n",
      "56         :       1966 ( 2.0%)\n",
      "70         :       1900 ( 1.9%)\n",
      "--------------------------------------------------\n",
      "(04) wind direction (10s deg) (38)\n",
      "--------------------------------------------------\n",
      "22         :       6804 ( 6.8%)\n",
      "24         :       6186 ( 6.2%)\n",
      "23         :       5908 ( 5.9%)\n",
      "21         :       5375 ( 5.4%)\n",
      "25         :       5170 ( 5.2%)\n",
      "28         :       4494 ( 4.5%)\n",
      "--------------------------------------------------\n",
      "(05) Wind speed (km/h) (52)\n",
      "--------------------------------------------------\n",
      "13         :       5812 ( 5.8%)\n",
      "10         :       5775 ( 5.8%)\n",
      "16         :       5567 ( 5.6%)\n",
      "14         :       5381 ( 5.4%)\n",
      "9          :       4818 ( 4.8%)\n",
      "12         :       4645 ( 4.6%)\n",
      "--------------------------------------------------\n",
      "(06) Visibility (km) (23)\n",
      "--------------------------------------------------\n",
      "24,1       :      61602 (61.6%)\n",
      "48,3       :      30945 (30.9%)\n",
      "16,1       :       1743 ( 1.7%)\n",
      "19,3       :       1710 ( 1.7%)\n",
      "12,9       :        929 ( 0.9%)\n",
      "9,7        :        692 ( 0.7%)\n",
      "--------------------------------------------------\n",
      "(07) Visility indicator (1)\n",
      "--------------------------------------------------\n",
      "           :     100000 (100.0%)\n",
      "--------------------------------------------------\n",
      "(08) Pressure at the station (kPa) (435)\n",
      "--------------------------------------------------\n",
      "100,92     :        858 ( 0.9%)\n",
      "101,00     :        742 ( 0.7%)\n",
      "100,91     :        742 ( 0.7%)\n",
      "100,93     :        702 ( 0.7%)\n",
      "100,98     :        700 ( 0.7%)\n",
      "100,96     :        700 ( 0.7%)\n",
      "--------------------------------------------------\n",
      "(09) hmdx (20)\n",
      "--------------------------------------------------\n",
      "           :      67915 (67.9%)\n",
      "26         :       3965 ( 4.0%)\n",
      "27         :       3773 ( 3.8%)\n",
      "28         :       3473 ( 3.5%)\n",
      "25         :       3429 ( 3.4%)\n",
      "29         :       3144 ( 3.1%)\n",
      "--------------------------------------------------\n",
      "(10) Wind Chill (10)\n",
      "--------------------------------------------------\n",
      "           :      99408 (99.4%)\n",
      "-4         :        187 ( 0.2%)\n",
      "-6         :        110 ( 0.1%)\n",
      "-5         :         87 ( 0.1%)\n",
      "-3         :         63 ( 0.1%)\n",
      "-8         :         44 ( 0.0%)\n",
      "--------------------------------------------------\n",
      "(11) Weather (34)\n",
      "--------------------------------------------------\n",
      "ND         :      60184 (60.2%)\n",
      "Généralement nuageux :      10556 (10.6%)\n",
      "Généralement dégagé :       8281 ( 8.3%)\n",
      "Dégagé     :       5821 ( 5.8%)\n",
      "Nuageux    :       5487 ( 5.5%)\n",
      "Pluie      :       3547 ( 3.5%)\n",
      "--------------------------------------------------\n",
      "(12) Public Holiday (2)\n",
      "--------------------------------------------------\n",
      "0          :      97395 (97.4%)\n",
      "1          :       2605 ( 2.6%)\n",
      "--------------------------------------------------\n",
      "(13) Station Code (182)\n",
      "--------------------------------------------------\n",
      "6114       :        603 ( 0.6%)\n",
      "6225       :        601 ( 0.6%)\n",
      "6059       :        600 ( 0.6%)\n",
      "6174       :        596 ( 0.6%)\n",
      "6250       :        595 ( 0.6%)\n",
      "6177       :        592 ( 0.6%)\n",
      "--------------------------------------------------\n",
      "(14) Withdrawals (57)\n",
      "--------------------------------------------------\n",
      "0          :      35905 (35.9%)\n",
      "1          :      16567 (16.6%)\n",
      "2          :      11865 (11.9%)\n",
      "3          :       8665 ( 8.7%)\n",
      "4          :       6488 ( 6.5%)\n",
      "5          :       4970 ( 5.0%)\n",
      "--------------------------------------------------\n",
      "(15) Volume (2)\n",
      "--------------------------------------------------\n",
      "0          :      92996 (93.0%)\n",
      "1          :       7004 ( 7.0%)\n"
     ]
    }
   ],
   "source": [
    "print_feature(header, data)"
   ]
  },
  {
   "cell_type": "markdown",
   "metadata": {},
   "source": [
    " * We can remove the feature without values in over 50% of samples. \n",
    "\n",
    " * We decide to keep Weather as it is discrete and we can easily replace it with a one-hot vector. \n",
    "\n",
    " * We also need to remove Withdrawals that is not available in test data."
   ]
  },
  {
   "cell_type": "code",
   "execution_count": 9,
   "metadata": {},
   "outputs": [],
   "source": [
    "data = np.delete(data, [7, 9, 10, 14], 1)\n",
    "header = np.delete(header, [7, 9, 10, 14])"
   ]
  },
  {
   "cell_type": "markdown",
   "metadata": {},
   "source": [
    "## I.2 Convert Date to Year, Month, Day, Hour"
   ]
  },
  {
   "cell_type": "markdown",
   "metadata": {},
   "source": [
    "In the date we can extract several informations : the Year, the Month, the day, and the hour.\n",
    "\n",
    "From this, we can also deduce a useful information : the day of the week (if it's Monday, Tuesday, etc.)."
   ]
  },
  {
   "cell_type": "code",
   "execution_count": 10,
   "metadata": {},
   "outputs": [],
   "source": [
    "import datetime"
   ]
  },
  {
   "cell_type": "code",
   "execution_count": 11,
   "metadata": {},
   "outputs": [],
   "source": [
    "def convert_date(data, index):\n",
    "    new_data = []\n",
    "    for i, d in enumerate(data):\n",
    "        dt = datetime.datetime.fromisoformat(d[index])\n",
    "        new_data.append([dt.year, dt.month, dt.day, dt.hour] + \n",
    "                        [int(dt.date().weekday() == i) for i in range(7)] + \n",
    "                        list(d[index + 1:]))\n",
    "#         new_data.append(\n",
    "#             re.split('-| |:|', d[index])[:-1] + list(d[index + 1:]))\n",
    "    return np.asarray(new_data)"
   ]
  },
  {
   "cell_type": "code",
   "execution_count": 12,
   "metadata": {},
   "outputs": [],
   "source": [
    "index_date = 0\n",
    "data = convert_date(data, index_date)\n",
    "date_header = [\"Year\", \"Month\", \"Day\", \"Hour\", \"Monday\", \"Tuesday\", \"Wednesday\", \"Thursday\", \"Friday\", \"Saturday\", \"Sunday\"]\n",
    "header = date_header + list(header[index_date + 1:])"
   ]
  },
  {
   "cell_type": "code",
   "execution_count": 13,
   "metadata": {},
   "outputs": [
    {
     "name": "stdout",
     "output_type": "stream",
     "text": [
      "22\n",
      "(100000, 22)\n",
      "['Year', 'Month', 'Day', 'Hour', 'Monday', 'Tuesday', 'Wednesday', 'Thursday', 'Friday', 'Saturday', 'Sunday', 'Temperature (°C)', 'Drew point (°C)', 'Relativite humidity (%)', 'wind direction (10s deg)', 'Wind speed (km/h)', 'Visibility (km)', 'Pressure at the station (kPa)', 'Weather', 'Public Holiday', 'Station Code', 'Volume']\n"
     ]
    }
   ],
   "source": [
    "print(len(header))\n",
    "print(data.shape)\n",
    "print(header)"
   ]
  },
  {
   "cell_type": "markdown",
   "metadata": {},
   "source": [
    "### I.2.1 One Hot encoding for Year and Month"
   ]
  },
  {
   "cell_type": "code",
   "execution_count": 14,
   "metadata": {},
   "outputs": [],
   "source": [
    "def date_ohe(data, index, header):\n",
    "    new_data = []\n",
    "    new_header = []\n",
    "    year_list = np.unique(data[:,index])\n",
    "    month_list = np.unique(data[:,index+1])\n",
    "    new_header = list(year_list) + [\"Month\"+str(i) for i in month_list] + header[index+2:]\n",
    "    \n",
    "    for i, d in enumerate(data):\n",
    "        year = [0]*len(year_list)\n",
    "        year[np.where(year_list == d[index])[0][0]] = 1\n",
    "        month = [0]*len(month_list)\n",
    "        month[np.where(month_list == d[index+1])[0][0]] = 1\n",
    "        new_data.append(year + month + list(d[index + 2:]))\n",
    "    return np.asarray(new_data), new_header"
   ]
  },
  {
   "cell_type": "code",
   "execution_count": 15,
   "metadata": {},
   "outputs": [],
   "source": [
    "data, header = date_ohe(data,index_date, header)"
   ]
  },
  {
   "cell_type": "code",
   "execution_count": 16,
   "metadata": {},
   "outputs": [
    {
     "name": "stdout",
     "output_type": "stream",
     "text": [
      "(100000, 30)\n",
      "30\n"
     ]
    }
   ],
   "source": [
    "print(data.shape)\n",
    "print(len(header))"
   ]
  },
  {
   "cell_type": "markdown",
   "metadata": {},
   "source": [
    "## I.3 Convert Weather to binary vector"
   ]
  },
  {
   "cell_type": "code",
   "execution_count": 17,
   "metadata": {},
   "outputs": [],
   "source": [
    "def convert_weather(data, weather, index):\n",
    "    N = len(weather)\n",
    "    new_data = []\n",
    "    for i, d in enumerate(data):\n",
    "        new_weather = [\n",
    "            1 if any([w == v for v in d[index].split(',')]) else 0\n",
    "            for w in weather\n",
    "        ]\n",
    "        new_data.append(list(d[:index]) + new_weather + list(d[index + 1:]))\n",
    "    return np.asarray(new_data)"
   ]
  },
  {
   "cell_type": "code",
   "execution_count": 18,
   "metadata": {},
   "outputs": [
    {
     "data": {
      "text/plain": [
       "{'',\n",
       " 'Averses de neige',\n",
       " 'Averses de pluie',\n",
       " 'Averses de pluie forte',\n",
       " 'Averses de pluie modérées',\n",
       " 'Brouillard',\n",
       " 'Bruine',\n",
       " 'Dégagé',\n",
       " 'Généralement dégagé',\n",
       " 'Généralement nuageux',\n",
       " 'ND',\n",
       " 'Neige',\n",
       " 'Nuageux',\n",
       " 'Orages',\n",
       " 'Pluie',\n",
       " 'Pluie forte',\n",
       " 'Pluie modérée'}"
      ]
     },
     "execution_count": 18,
     "metadata": {},
     "output_type": "execute_result"
    }
   ],
   "source": [
    "index_weather = header.index(\"Weather\")\n",
    "set(l for s in set(data.T[index_weather]) for l in s.split(\",\"))"
   ]
  },
  {
   "cell_type": "code",
   "execution_count": 19,
   "metadata": {},
   "outputs": [],
   "source": [
    "weather = [\n",
    "    'Orages', 'Brouillard', 'Bruine', 'Généralement dégagé',\n",
    "    'Généralement nuageux', 'Pluie', 'Pluie modérée', 'Pluie forte', 'Dégagé',\n",
    "    'Nuageux', 'Neige'\n",
    "]\n",
    "data = convert_weather(data, weather, index_weather)\n",
    "header = list(header[:index_weather]) + weather + list(\n",
    "    header[index_weather + 1:])"
   ]
  },
  {
   "cell_type": "markdown",
   "metadata": {},
   "source": [
    "## I.4. Convert feature type from string to float (remove samples with missing values)"
   ]
  },
  {
   "cell_type": "code",
   "execution_count": 20,
   "metadata": {},
   "outputs": [
    {
     "name": "stdout",
     "output_type": "stream",
     "text": [
      "141\n",
      "15\n"
     ]
    }
   ],
   "source": [
    "# samples with at least one missing value\n",
    "missing = [d for d in data if '' in d]\n",
    "print(len(missing))\n",
    "\n",
    "# number of class 1 with missing value\n",
    "print(sum(['1' in d[-1] for d in missing]))"
   ]
  },
  {
   "cell_type": "markdown",
   "metadata": {},
   "source": [
    "Let's remove the samples with missing values as only one hundred have label 1."
   ]
  },
  {
   "cell_type": "code",
   "execution_count": 21,
   "metadata": {},
   "outputs": [],
   "source": [
    "def convert_type(data):\n",
    "    return np.asarray(\n",
    "        [[float(v.replace(\",\", \".\")) for v in d] for d in data if \"\" not in d])"
   ]
  },
  {
   "cell_type": "code",
   "execution_count": 22,
   "metadata": {},
   "outputs": [],
   "source": [
    "data = convert_type(data)"
   ]
  },
  {
   "cell_type": "code",
   "execution_count": 23,
   "metadata": {},
   "outputs": [
    {
     "name": "stdout",
     "output_type": "stream",
     "text": [
      "(0 ) 2015                           : 0.0\n",
      "(1 ) 2016                           : 1.0\n",
      "(2 ) Month10                        : 0.0\n",
      "(3 ) Month11                        : 0.0\n",
      "(4 ) Month4                         : 0.0\n",
      "(5 ) Month5                         : 0.0\n",
      "(6 ) Month6                         : 0.0\n",
      "(7 ) Month7                         : 0.0\n",
      "(8 ) Month8                         : 1.0\n",
      "(9 ) Month9                         : 0.0\n",
      "(10) Day                            : 16.0\n",
      "(11) Hour                           : 19.0\n",
      "(12) Monday                         : 0.0\n",
      "(13) Tuesday                        : 1.0\n",
      "(14) Wednesday                      : 0.0\n",
      "(15) Thursday                       : 0.0\n",
      "(16) Friday                         : 0.0\n",
      "(17) Saturday                       : 0.0\n",
      "(18) Sunday                         : 0.0\n",
      "(19) Temperature (°C)               : 18.6\n",
      "(20) Drew point (°C)                : 17.8\n",
      "(21) Relativite humidity (%)        : 95.0\n",
      "(22) wind direction (10s deg)       : 5.0\n",
      "(23) Wind speed (km/h)              : 29.0\n",
      "(24) Visibility (km)                : 1.2\n",
      "(25) Pressure at the station (kPa)  : 100.56\n",
      "(26) Orages                         : 0.0\n",
      "(27) Brouillard                     : 1.0\n",
      "(28) Bruine                         : 0.0\n",
      "(29) Généralement dégagé            : 0.0\n",
      "(30) Généralement nuageux           : 0.0\n",
      "(31) Pluie                          : 0.0\n",
      "(32) Pluie modérée                  : 0.0\n",
      "(33) Pluie forte                    : 1.0\n",
      "(34) Dégagé                         : 0.0\n",
      "(35) Nuageux                        : 0.0\n",
      "(36) Neige                          : 0.0\n",
      "(37) Public Holiday                 : 0.0\n",
      "(38) Station Code                   : 6193.0\n",
      "(39) Volume                         : 0.0\n"
     ]
    }
   ],
   "source": [
    "print_sample(header, data, 8716)"
   ]
  },
  {
   "cell_type": "code",
   "execution_count": 24,
   "metadata": {},
   "outputs": [
    {
     "name": "stdout",
     "output_type": "stream",
     "text": [
      "(99859, 40)\n"
     ]
    }
   ],
   "source": [
    "print(data.shape)"
   ]
  },
  {
   "cell_type": "markdown",
   "metadata": {},
   "source": [
    "## I.5. Normalization of continuous data"
   ]
  },
  {
   "cell_type": "markdown",
   "metadata": {},
   "source": [
    "The concerned features are : Temperature, Drew point, Relativite humidity, wind direction, Wind speed, and Pressure at the station"
   ]
  },
  {
   "cell_type": "code",
   "execution_count": 25,
   "metadata": {},
   "outputs": [],
   "source": [
    "from sklearn.preprocessing import normalize"
   ]
  },
  {
   "cell_type": "code",
   "execution_count": 26,
   "metadata": {},
   "outputs": [],
   "source": [
    "indices_continuous_features = [11,12,13,14,15,17]\n",
    "\n",
    "def normalization_features(data, indices):\n",
    "    new_data = []\n",
    "    for i in range(data.shape[1]):\n",
    "        if i in indices:\n",
    "            new_data.append((data[:,i]-np.mean(data[:,i]))/np.std(data[:,i]))\n",
    "        else:\n",
    "            new_data.append(data[:,i])\n",
    "    return np.asarray(new_data).T"
   ]
  },
  {
   "cell_type": "code",
   "execution_count": 27,
   "metadata": {},
   "outputs": [],
   "source": [
    "data = normalization_features(data, indices_continuous_features)"
   ]
  },
  {
   "cell_type": "markdown",
   "metadata": {},
   "source": [
    "# II/ Data analysis & visualization"
   ]
  },
  {
   "cell_type": "code",
   "execution_count": 28,
   "metadata": {},
   "outputs": [],
   "source": [
    "import seaborn as sns\n",
    "import matplotlib.pyplot as plt"
   ]
  },
  {
   "cell_type": "markdown",
   "metadata": {},
   "source": [
    "## II.1. Distribution of the features"
   ]
  },
  {
   "cell_type": "code",
   "execution_count": 29,
   "metadata": {},
   "outputs": [],
   "source": [
    "def plot_features(header, data):\n",
    "    cols = 4\n",
    "    n = data.shape[1] // cols\n",
    "    fig, ax = plt.subplots(nrows=n, ncols=cols, figsize=(cols * 6, n * 6))\n",
    "    for i, (name, feature) in enumerate(zip(header, data.T)):\n",
    "        ax[i // cols, i % cols].hist(feature)\n",
    "        ax[i // cols, i % cols].set_title(name)\n",
    "    plt.show()"
   ]
  },
  {
   "cell_type": "code",
   "execution_count": 30,
   "metadata": {},
   "outputs": [],
   "source": [
    "# plot_features(header, data)"
   ]
  },
  {
   "cell_type": "markdown",
   "metadata": {},
   "source": [
    "## II.2. Correlation of features and output"
   ]
  },
  {
   "cell_type": "markdown",
   "metadata": {},
   "source": [
    "### II.2.1. Correlation matrix of the features"
   ]
  },
  {
   "cell_type": "code",
   "execution_count": 33,
   "metadata": {
    "scrolled": false
   },
   "outputs": [
    {
     "data": {
      "image/png": "[encoded data removed]",
      "text/plain": [
       "<Figure size 1008x864 with 2 Axes>"
      ]
     },
     "metadata": {
      "needs_background": "light"
     },
     "output_type": "display_data"
    }
   ],
   "source": [
    "mask = np.zeros((data.shape[1],data.shape[1]), dtype=np.bool)\n",
    "mask[np.triu_indices_from(mask)] = True\n",
    "cmap = sns.diverging_palette(220, 10, as_cmap=True)\n",
    "\n",
    "plt.figure(figsize=(14, 12))\n",
    "\n",
    "ax = sns.heatmap(np.corrcoef(data.T), mask = mask, center=0, cmap=cmap,\n",
    "            square=True, linewidths=.5, cbar_kws={\"shrink\": .5}, xticklabels = header, yticklabels = header)\n",
    "\n",
    "plt.show()"
   ]
  },
  {
   "cell_type": "markdown",
   "metadata": {},
   "source": [
    "### II.2.2. Correlation between each features with the output"
   ]
  },
  {
   "cell_type": "code",
   "execution_count": 34,
   "metadata": {},
   "outputs": [],
   "source": [
    "def feature_output_corr(header, data):\n",
    "    coeff = [np.corrcoef(feature, data.T[-1])[0][1] for feature in data.T[:-1]]\n",
    "    abs_coeff = list(map(abs, coeff))\n",
    "    for _, coeff, name in sorted(zip(abs_coeff, coeff, header), reverse=True):\n",
    "        print(\"{:30} : {:6.3f}\".format(name, coeff))"
   ]
  },
  {
   "cell_type": "code",
   "execution_count": 35,
   "metadata": {
    "scrolled": false
   },
   "outputs": [
    {
     "name": "stdout",
     "output_type": "stream",
     "text": [
      "Temperature (°C)               :  0.197\n",
      "Relativite humidity (%)        : -0.163\n",
      "Hour                           :  0.147\n",
      "Visibility (km)                :  0.138\n",
      "Drew point (°C)                :  0.074\n",
      "Wind speed (km/h)              :  0.059\n",
      "Month4                         : -0.055\n",
      "2016                           :  0.055\n",
      "2015                           : -0.055\n",
      "Month10                        : -0.053\n",
      "Month7                         :  0.052\n",
      "Pluie                          : -0.052\n",
      "Month11                        : -0.048\n",
      "Month8                         :  0.039\n",
      "Brouillard                     : -0.036\n",
      "Sunday                         : -0.034\n",
      "Dégagé                         : -0.033\n",
      "Station Code                   : -0.031\n",
      "wind direction (10s deg)       :  0.023\n",
      "Saturday                       : -0.020\n",
      "Month6                         :  0.019\n",
      "Thursday                       :  0.019\n",
      "Wednesday                      :  0.018\n",
      "Pressure at the station (kPa)  : -0.017\n",
      "Bruine                         : -0.017\n",
      "Nuageux                        : -0.017\n",
      "Pluie modérée                  : -0.012\n",
      "Tuesday                        :  0.011\n",
      "Friday                         :  0.011\n",
      "Neige                          : -0.008\n",
      "Généralement dégagé            :  0.008\n",
      "Généralement nuageux           :  0.007\n",
      "Orages                         : -0.006\n",
      "Monday                         : -0.005\n",
      "Pluie forte                    : -0.005\n",
      "Public Holiday                 : -0.004\n",
      "Day                            :  0.003\n",
      "Month9                         : -0.003\n",
      "Month5                         : -0.001\n"
     ]
    }
   ],
   "source": [
    "feature_output_corr(header, data)"
   ]
  },
  {
   "cell_type": "markdown",
   "metadata": {},
   "source": [
    "# Models"
   ]
  },
  {
   "cell_type": "code",
   "execution_count": 36,
   "metadata": {},
   "outputs": [],
   "source": [
    "from sklearn.metrics import f1_score, precision_score, recall_score\n",
    "from sklearn.model_selection import train_test_split"
   ]
  },
  {
   "cell_type": "code",
   "execution_count": 37,
   "metadata": {},
   "outputs": [],
   "source": [
    "def compute_f1(proba, y_true, step=0.01, plot=False):\n",
    "    f1 = []\n",
    "\n",
    "    for threshold in np.arange(0, 1, step):\n",
    "        y_pred = [int(y > threshold) for y in proba]\n",
    "        f1.append(f1_score(y_test, y_pred) if 1 in y_pred else 0)\n",
    "\n",
    "    if plot:\n",
    "        plt.figure(figsize=(6, 4), dpi=300)\n",
    "        plt.plot(np.arange(0, 1, step), f1)\n",
    "        plt.xlabel('Threshold')\n",
    "        plt.ylabel('F1-score')\n",
    "        plt.show()\n",
    "\n",
    "    return max(f1), step * np.argmax(f1)"
   ]
  },
  {
   "cell_type": "code",
   "execution_count": 38,
   "metadata": {},
   "outputs": [],
   "source": [
    "x, y = data[:, :-1], data[:, -1]\n",
    "split = int(data.shape[0] * 0.8)\n",
    "x_train, x_test, y_train, y_test = data[:split, :-1], data[\n",
    "    split:, :-1], data[:split, -1], data[split:, -1]"
   ]
  },
  {
   "cell_type": "markdown",
   "metadata": {},
   "source": [
    "### Logistic regression"
   ]
  },
  {
   "cell_type": "code",
   "execution_count": 39,
   "metadata": {},
   "outputs": [],
   "source": [
    "from sklearn.linear_model import LogisticRegression"
   ]
  },
  {
   "cell_type": "code",
   "execution_count": 40,
   "metadata": {},
   "outputs": [],
   "source": [
    "model = LogisticRegression(max_iter=9999, class_weight={0: 1, 1: 6})\n",
    "model = model.fit(x_train, y_train)"
   ]
  },
  {
   "cell_type": "code",
   "execution_count": 41,
   "metadata": {},
   "outputs": [],
   "source": [
    "prediction = model.predict_proba(x_test)\n",
    "proba = list(zip(*prediction))[1]"
   ]
  },
  {
   "cell_type": "code",
   "execution_count": 42,
   "metadata": {},
   "outputs": [
    {
     "data": {
      "image/png": "[encoded data removed]",
      "text/plain": [
       "<Figure size 1800x1200 with 1 Axes>"
      ]
     },
     "metadata": {
      "needs_background": "light"
     },
     "output_type": "display_data"
    },
    {
     "data": {
      "text/plain": [
       "(0.2881528144686039, 0.49)"
      ]
     },
     "execution_count": 42,
     "metadata": {},
     "output_type": "execute_result"
    }
   ],
   "source": [
    "compute_f1(proba, y_test, plot=True)"
   ]
  },
  {
   "cell_type": "code",
   "execution_count": 43,
   "metadata": {},
   "outputs": [
    {
     "name": "stdout",
     "output_type": "stream",
     "text": [
      "0.28473581213307236\n",
      "0.40813464235624125\n",
      "0.21863260706235912\n"
     ]
    }
   ],
   "source": [
    "threshold = 0.54\n",
    "\n",
    "y_pred = [int(y > threshold) for y in proba]\n",
    "\n",
    "print(f1_score(y_pred, y_test))\n",
    "print(precision_score(y_pred, y_test))\n",
    "print(recall_score(y_pred, y_test))"
   ]
  }
 ],
 "metadata": {
  "kernelspec": {
   "display_name": "Python 3",
   "language": "python",
   "name": "python3"
  },
  "language_info": {
   "codemirror_mode": {
    "name": "ipython",
    "version": 3
   },
   "file_extension": ".py",
   "mimetype": "text/x-python",
   "name": "python",
   "nbconvert_exporter": "python",
   "pygments_lexer": "ipython3",
   "version": "3.7.1"
  }
 },
 "nbformat": 4,
 "nbformat_minor": 2
}
